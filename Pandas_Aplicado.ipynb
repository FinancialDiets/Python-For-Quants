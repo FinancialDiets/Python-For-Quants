{
  "nbformat": 4,
  "nbformat_minor": 0,
  "metadata": {
    "kernelspec": {
      "display_name": "Python 3",
      "language": "python",
      "name": "python3"
    },
    "language_info": {
      "codemirror_mode": {
        "name": "ipython",
        "version": 3
      },
      "file_extension": ".py",
      "mimetype": "text/x-python",
      "name": "python",
      "nbconvert_exporter": "python",
      "pygments_lexer": "ipython3",
      "version": "3.8.3"
    },
    "colab": {
      "provenance": [],
      "include_colab_link": true
    }
  },
  "cells": [
    {
      "cell_type": "markdown",
      "metadata": {
        "id": "view-in-github",
        "colab_type": "text"
      },
      "source": [
        "<a href=\"https://colab.research.google.com/github/FinancialDiets/Python-For-Quants/blob/main/Pandas_Aplicado.ipynb\" target=\"_parent\"><img src=\"https://colab.research.google.com/assets/colab-badge.svg\" alt=\"Open In Colab\"/></a>"
      ]
    },
    {
      "cell_type": "markdown",
      "metadata": {
        "id": "NYp6rgkHe2Wy"
      },
      "source": [
        "# Clase de Análisis de datos con Pandas\n",
        "Gold Trust\n",
        "\n",
        "Autor: Mauricio Sandoval"
      ]
    },
    {
      "cell_type": "code",
      "metadata": {
        "colab": {
          "base_uri": "https://localhost:8080/"
        },
        "id": "9EGNdM21HAyV",
        "outputId": "28ad59c8-ad82-4951-c6b6-070b7950ec18"
      },
      "source": [
        "a = float(\"inf\")\n",
        "b = float(\"-inf\")\n",
        "print(a)\n",
        "print(b)"
      ],
      "execution_count": null,
      "outputs": [
        {
          "output_type": "stream",
          "name": "stdout",
          "text": [
            "inf\n",
            "-inf\n"
          ]
        }
      ]
    },
    {
      "cell_type": "code",
      "metadata": {
        "id": "RHBhfYMALbiz"
      },
      "source": [
        "float(\"3.255645\")"
      ],
      "execution_count": null,
      "outputs": []
    },
    {
      "cell_type": "code",
      "metadata": {
        "colab": {
          "base_uri": "https://localhost:8080/"
        },
        "id": "1FwdFql2HM06",
        "outputId": "92656dad-17c8-45df-87c2-f151b2eefe89"
      },
      "source": [
        "import math\n",
        "print(math.isinf(a))\n",
        "print(math.isinf(b))"
      ],
      "execution_count": null,
      "outputs": [
        {
          "output_type": "stream",
          "name": "stdout",
          "text": [
            "True\n",
            "True\n"
          ]
        }
      ]
    },
    {
      "cell_type": "code",
      "metadata": {
        "colab": {
          "base_uri": "https://localhost:8080/"
        },
        "id": "CiBDRgArHaHy",
        "outputId": "f24d20d8-333c-44f3-cca8-7dd5c6a13aa0"
      },
      "source": [
        "print(a + 45)\n",
        "print(a * 10)\n",
        "print(a / 10)\n",
        "print(10 / a)\n",
        "float(\"inf\") == float(\"inf\")"
      ],
      "execution_count": null,
      "outputs": [
        {
          "output_type": "stream",
          "name": "stdout",
          "text": [
            "inf\n",
            "inf\n",
            "inf\n",
            "0.0\n"
          ]
        },
        {
          "output_type": "execute_result",
          "data": {
            "text/plain": [
              "True"
            ]
          },
          "metadata": {},
          "execution_count": 5
        }
      ]
    },
    {
      "cell_type": "code",
      "metadata": {
        "colab": {
          "base_uri": "https://localhost:8080/"
        },
        "id": "dgz9288pHmUT",
        "outputId": "64f2cb15-b100-47f9-bb48-ebc4251784ce"
      },
      "source": [
        "print(a/a)\n",
        "print(a + b)"
      ],
      "execution_count": null,
      "outputs": [
        {
          "output_type": "stream",
          "name": "stdout",
          "text": [
            "nan\n",
            "nan\n"
          ]
        }
      ]
    },
    {
      "cell_type": "code",
      "metadata": {
        "colab": {
          "base_uri": "https://localhost:8080/",
          "height": 175
        },
        "id": "evzmKNKDH3Vr",
        "outputId": "4c05149c-1345-4e0c-9b4e-d95fb63b216b"
      },
      "source": [
        "import pandas as pd\n",
        "import numpy as np\n",
        "\n",
        "df = pd.DataFrame([1, 2, np.inf, -np.inf])\n",
        "df"
      ],
      "execution_count": null,
      "outputs": [
        {
          "output_type": "execute_result",
          "data": {
            "text/plain": [
              "     0\n",
              "0  1.0\n",
              "1  2.0\n",
              "2  inf\n",
              "3 -inf"
            ],
            "text/html": [
              "\n",
              "  <div id=\"df-2eb91407-2d0a-4797-94d7-f0286d166309\">\n",
              "    <div class=\"colab-df-container\">\n",
              "      <div>\n",
              "<style scoped>\n",
              "    .dataframe tbody tr th:only-of-type {\n",
              "        vertical-align: middle;\n",
              "    }\n",
              "\n",
              "    .dataframe tbody tr th {\n",
              "        vertical-align: top;\n",
              "    }\n",
              "\n",
              "    .dataframe thead th {\n",
              "        text-align: right;\n",
              "    }\n",
              "</style>\n",
              "<table border=\"1\" class=\"dataframe\">\n",
              "  <thead>\n",
              "    <tr style=\"text-align: right;\">\n",
              "      <th></th>\n",
              "      <th>0</th>\n",
              "    </tr>\n",
              "  </thead>\n",
              "  <tbody>\n",
              "    <tr>\n",
              "      <th>0</th>\n",
              "      <td>1.0</td>\n",
              "    </tr>\n",
              "    <tr>\n",
              "      <th>1</th>\n",
              "      <td>2.0</td>\n",
              "    </tr>\n",
              "    <tr>\n",
              "      <th>2</th>\n",
              "      <td>inf</td>\n",
              "    </tr>\n",
              "    <tr>\n",
              "      <th>3</th>\n",
              "      <td>-inf</td>\n",
              "    </tr>\n",
              "  </tbody>\n",
              "</table>\n",
              "</div>\n",
              "      <button class=\"colab-df-convert\" onclick=\"convertToInteractive('df-2eb91407-2d0a-4797-94d7-f0286d166309')\"\n",
              "              title=\"Convert this dataframe to an interactive table.\"\n",
              "              style=\"display:none;\">\n",
              "        \n",
              "  <svg xmlns=\"http://www.w3.org/2000/svg\" height=\"24px\"viewBox=\"0 0 24 24\"\n",
              "       width=\"24px\">\n",
              "    <path d=\"M0 0h24v24H0V0z\" fill=\"none\"/>\n",
              "    <path d=\"M18.56 5.44l.94 2.06.94-2.06 2.06-.94-2.06-.94-.94-2.06-.94 2.06-2.06.94zm-11 1L8.5 8.5l.94-2.06 2.06-.94-2.06-.94L8.5 2.5l-.94 2.06-2.06.94zm10 10l.94 2.06.94-2.06 2.06-.94-2.06-.94-.94-2.06-.94 2.06-2.06.94z\"/><path d=\"M17.41 7.96l-1.37-1.37c-.4-.4-.92-.59-1.43-.59-.52 0-1.04.2-1.43.59L10.3 9.45l-7.72 7.72c-.78.78-.78 2.05 0 2.83L4 21.41c.39.39.9.59 1.41.59.51 0 1.02-.2 1.41-.59l7.78-7.78 2.81-2.81c.8-.78.8-2.07 0-2.86zM5.41 20L4 18.59l7.72-7.72 1.47 1.35L5.41 20z\"/>\n",
              "  </svg>\n",
              "      </button>\n",
              "      \n",
              "  <style>\n",
              "    .colab-df-container {\n",
              "      display:flex;\n",
              "      flex-wrap:wrap;\n",
              "      gap: 12px;\n",
              "    }\n",
              "\n",
              "    .colab-df-convert {\n",
              "      background-color: #E8F0FE;\n",
              "      border: none;\n",
              "      border-radius: 50%;\n",
              "      cursor: pointer;\n",
              "      display: none;\n",
              "      fill: #1967D2;\n",
              "      height: 32px;\n",
              "      padding: 0 0 0 0;\n",
              "      width: 32px;\n",
              "    }\n",
              "\n",
              "    .colab-df-convert:hover {\n",
              "      background-color: #E2EBFA;\n",
              "      box-shadow: 0px 1px 2px rgba(60, 64, 67, 0.3), 0px 1px 3px 1px rgba(60, 64, 67, 0.15);\n",
              "      fill: #174EA6;\n",
              "    }\n",
              "\n",
              "    [theme=dark] .colab-df-convert {\n",
              "      background-color: #3B4455;\n",
              "      fill: #D2E3FC;\n",
              "    }\n",
              "\n",
              "    [theme=dark] .colab-df-convert:hover {\n",
              "      background-color: #434B5C;\n",
              "      box-shadow: 0px 1px 3px 1px rgba(0, 0, 0, 0.15);\n",
              "      filter: drop-shadow(0px 1px 2px rgba(0, 0, 0, 0.3));\n",
              "      fill: #FFFFFF;\n",
              "    }\n",
              "  </style>\n",
              "\n",
              "      <script>\n",
              "        const buttonEl =\n",
              "          document.querySelector('#df-2eb91407-2d0a-4797-94d7-f0286d166309 button.colab-df-convert');\n",
              "        buttonEl.style.display =\n",
              "          google.colab.kernel.accessAllowed ? 'block' : 'none';\n",
              "\n",
              "        async function convertToInteractive(key) {\n",
              "          const element = document.querySelector('#df-2eb91407-2d0a-4797-94d7-f0286d166309');\n",
              "          const dataTable =\n",
              "            await google.colab.kernel.invokeFunction('convertToInteractive',\n",
              "                                                     [key], {});\n",
              "          if (!dataTable) return;\n",
              "\n",
              "          const docLinkHtml = 'Like what you see? Visit the ' +\n",
              "            '<a target=\"_blank\" href=https://colab.research.google.com/notebooks/data_table.ipynb>data table notebook</a>'\n",
              "            + ' to learn more about interactive tables.';\n",
              "          element.innerHTML = '';\n",
              "          dataTable['output_type'] = 'display_data';\n",
              "          await google.colab.output.renderOutput(dataTable, element);\n",
              "          const docLink = document.createElement('div');\n",
              "          docLink.innerHTML = docLinkHtml;\n",
              "          element.appendChild(docLink);\n",
              "        }\n",
              "      </script>\n",
              "    </div>\n",
              "  </div>\n",
              "  "
            ]
          },
          "metadata": {},
          "execution_count": 6
        }
      ]
    },
    {
      "cell_type": "code",
      "source": [
        "dict_1 = {\"id_\": [6408],\n",
        "          \"name\": [\"Apple Inc\"],\n",
        "          \"symbol\": [\"AAPL\"],\n",
        "          \"country\": [\"united states\"],\n",
        "          \"tag\": [\"/equities/apple-computer-inc\"],\n",
        "          \"pair_type\": [\"stocks\"],\n",
        "          \"exchange\": [\"NASDAQ\"]}"
      ],
      "metadata": {
        "id": "Yn40khvPbfAr"
      },
      "execution_count": null,
      "outputs": []
    },
    {
      "cell_type": "code",
      "source": [
        "df_2 = pd.DataFrame(dict_1)\n",
        "df_2"
      ],
      "metadata": {
        "colab": {
          "base_uri": "https://localhost:8080/",
          "height": 81
        },
        "id": "g_vc28fKbhQT",
        "outputId": "fb5094ec-40e5-4488-8bb5-ab6ae4ee2c5a"
      },
      "execution_count": null,
      "outputs": [
        {
          "output_type": "execute_result",
          "data": {
            "text/plain": [
              "    id_       name symbol        country                           tag  \\\n",
              "0  6408  Apple Inc   AAPL  united states  /equities/apple-computer-inc   \n",
              "\n",
              "  pair_type exchange  \n",
              "0    stocks   NASDAQ  "
            ],
            "text/html": [
              "\n",
              "  <div id=\"df-567947bb-c1a2-40e9-b248-9dfb7b325b6f\">\n",
              "    <div class=\"colab-df-container\">\n",
              "      <div>\n",
              "<style scoped>\n",
              "    .dataframe tbody tr th:only-of-type {\n",
              "        vertical-align: middle;\n",
              "    }\n",
              "\n",
              "    .dataframe tbody tr th {\n",
              "        vertical-align: top;\n",
              "    }\n",
              "\n",
              "    .dataframe thead th {\n",
              "        text-align: right;\n",
              "    }\n",
              "</style>\n",
              "<table border=\"1\" class=\"dataframe\">\n",
              "  <thead>\n",
              "    <tr style=\"text-align: right;\">\n",
              "      <th></th>\n",
              "      <th>id_</th>\n",
              "      <th>name</th>\n",
              "      <th>symbol</th>\n",
              "      <th>country</th>\n",
              "      <th>tag</th>\n",
              "      <th>pair_type</th>\n",
              "      <th>exchange</th>\n",
              "    </tr>\n",
              "  </thead>\n",
              "  <tbody>\n",
              "    <tr>\n",
              "      <th>0</th>\n",
              "      <td>6408</td>\n",
              "      <td>Apple Inc</td>\n",
              "      <td>AAPL</td>\n",
              "      <td>united states</td>\n",
              "      <td>/equities/apple-computer-inc</td>\n",
              "      <td>stocks</td>\n",
              "      <td>NASDAQ</td>\n",
              "    </tr>\n",
              "  </tbody>\n",
              "</table>\n",
              "</div>\n",
              "      <button class=\"colab-df-convert\" onclick=\"convertToInteractive('df-567947bb-c1a2-40e9-b248-9dfb7b325b6f')\"\n",
              "              title=\"Convert this dataframe to an interactive table.\"\n",
              "              style=\"display:none;\">\n",
              "        \n",
              "  <svg xmlns=\"http://www.w3.org/2000/svg\" height=\"24px\"viewBox=\"0 0 24 24\"\n",
              "       width=\"24px\">\n",
              "    <path d=\"M0 0h24v24H0V0z\" fill=\"none\"/>\n",
              "    <path d=\"M18.56 5.44l.94 2.06.94-2.06 2.06-.94-2.06-.94-.94-2.06-.94 2.06-2.06.94zm-11 1L8.5 8.5l.94-2.06 2.06-.94-2.06-.94L8.5 2.5l-.94 2.06-2.06.94zm10 10l.94 2.06.94-2.06 2.06-.94-2.06-.94-.94-2.06-.94 2.06-2.06.94z\"/><path d=\"M17.41 7.96l-1.37-1.37c-.4-.4-.92-.59-1.43-.59-.52 0-1.04.2-1.43.59L10.3 9.45l-7.72 7.72c-.78.78-.78 2.05 0 2.83L4 21.41c.39.39.9.59 1.41.59.51 0 1.02-.2 1.41-.59l7.78-7.78 2.81-2.81c.8-.78.8-2.07 0-2.86zM5.41 20L4 18.59l7.72-7.72 1.47 1.35L5.41 20z\"/>\n",
              "  </svg>\n",
              "      </button>\n",
              "      \n",
              "  <style>\n",
              "    .colab-df-container {\n",
              "      display:flex;\n",
              "      flex-wrap:wrap;\n",
              "      gap: 12px;\n",
              "    }\n",
              "\n",
              "    .colab-df-convert {\n",
              "      background-color: #E8F0FE;\n",
              "      border: none;\n",
              "      border-radius: 50%;\n",
              "      cursor: pointer;\n",
              "      display: none;\n",
              "      fill: #1967D2;\n",
              "      height: 32px;\n",
              "      padding: 0 0 0 0;\n",
              "      width: 32px;\n",
              "    }\n",
              "\n",
              "    .colab-df-convert:hover {\n",
              "      background-color: #E2EBFA;\n",
              "      box-shadow: 0px 1px 2px rgba(60, 64, 67, 0.3), 0px 1px 3px 1px rgba(60, 64, 67, 0.15);\n",
              "      fill: #174EA6;\n",
              "    }\n",
              "\n",
              "    [theme=dark] .colab-df-convert {\n",
              "      background-color: #3B4455;\n",
              "      fill: #D2E3FC;\n",
              "    }\n",
              "\n",
              "    [theme=dark] .colab-df-convert:hover {\n",
              "      background-color: #434B5C;\n",
              "      box-shadow: 0px 1px 3px 1px rgba(0, 0, 0, 0.15);\n",
              "      filter: drop-shadow(0px 1px 2px rgba(0, 0, 0, 0.3));\n",
              "      fill: #FFFFFF;\n",
              "    }\n",
              "  </style>\n",
              "\n",
              "      <script>\n",
              "        const buttonEl =\n",
              "          document.querySelector('#df-567947bb-c1a2-40e9-b248-9dfb7b325b6f button.colab-df-convert');\n",
              "        buttonEl.style.display =\n",
              "          google.colab.kernel.accessAllowed ? 'block' : 'none';\n",
              "\n",
              "        async function convertToInteractive(key) {\n",
              "          const element = document.querySelector('#df-567947bb-c1a2-40e9-b248-9dfb7b325b6f');\n",
              "          const dataTable =\n",
              "            await google.colab.kernel.invokeFunction('convertToInteractive',\n",
              "                                                     [key], {});\n",
              "          if (!dataTable) return;\n",
              "\n",
              "          const docLinkHtml = 'Like what you see? Visit the ' +\n",
              "            '<a target=\"_blank\" href=https://colab.research.google.com/notebooks/data_table.ipynb>data table notebook</a>'\n",
              "            + ' to learn more about interactive tables.';\n",
              "          element.innerHTML = '';\n",
              "          dataTable['output_type'] = 'display_data';\n",
              "          await google.colab.output.renderOutput(dataTable, element);\n",
              "          const docLink = document.createElement('div');\n",
              "          docLink.innerHTML = docLinkHtml;\n",
              "          element.appendChild(docLink);\n",
              "        }\n",
              "      </script>\n",
              "    </div>\n",
              "  </div>\n",
              "  "
            ]
          },
          "metadata": {},
          "execution_count": 10
        }
      ]
    },
    {
      "cell_type": "code",
      "metadata": {
        "id": "ai8SUqwwNu_O",
        "colab": {
          "base_uri": "https://localhost:8080/"
        },
        "outputId": "6fcd0af9-5265-42ad-c700-e69f53b44738"
      },
      "source": [
        "df.info()"
      ],
      "execution_count": null,
      "outputs": [
        {
          "output_type": "stream",
          "name": "stdout",
          "text": [
            "<class 'pandas.core.frame.DataFrame'>\n",
            "RangeIndex: 4 entries, 0 to 3\n",
            "Data columns (total 1 columns):\n",
            " #   Column  Non-Null Count  Dtype  \n",
            "---  ------  --------------  -----  \n",
            " 0   0       4 non-null      float64\n",
            "dtypes: float64(1)\n",
            "memory usage: 160.0 bytes\n"
          ]
        }
      ]
    },
    {
      "cell_type": "code",
      "metadata": {
        "colab": {
          "base_uri": "https://localhost:8080/",
          "height": 175
        },
        "id": "wxVhBLwkIR8p",
        "outputId": "ef090241-038a-4401-eb62-6f02c1975170"
      },
      "source": [
        "df.replace([np.inf, -np.inf], np.nan)"
      ],
      "execution_count": null,
      "outputs": [
        {
          "output_type": "execute_result",
          "data": {
            "text/html": [
              "<div>\n",
              "<style scoped>\n",
              "    .dataframe tbody tr th:only-of-type {\n",
              "        vertical-align: middle;\n",
              "    }\n",
              "\n",
              "    .dataframe tbody tr th {\n",
              "        vertical-align: top;\n",
              "    }\n",
              "\n",
              "    .dataframe thead th {\n",
              "        text-align: right;\n",
              "    }\n",
              "</style>\n",
              "<table border=\"1\" class=\"dataframe\">\n",
              "  <thead>\n",
              "    <tr style=\"text-align: right;\">\n",
              "      <th></th>\n",
              "      <th>0</th>\n",
              "    </tr>\n",
              "  </thead>\n",
              "  <tbody>\n",
              "    <tr>\n",
              "      <th>0</th>\n",
              "      <td>1.0</td>\n",
              "    </tr>\n",
              "    <tr>\n",
              "      <th>1</th>\n",
              "      <td>2.0</td>\n",
              "    </tr>\n",
              "    <tr>\n",
              "      <th>2</th>\n",
              "      <td>NaN</td>\n",
              "    </tr>\n",
              "    <tr>\n",
              "      <th>3</th>\n",
              "      <td>NaN</td>\n",
              "    </tr>\n",
              "  </tbody>\n",
              "</table>\n",
              "</div>"
            ],
            "text/plain": [
              "     0\n",
              "0  1.0\n",
              "1  2.0\n",
              "2  NaN\n",
              "3  NaN"
            ]
          },
          "metadata": {},
          "execution_count": 8
        }
      ]
    },
    {
      "cell_type": "code",
      "metadata": {
        "colab": {
          "base_uri": "https://localhost:8080/",
          "height": 175
        },
        "id": "qTltPuZ0IbfT",
        "outputId": "5d87aac1-a1af-401d-847f-d132d7c41f09"
      },
      "source": [
        "df.mask(np.isinf(df))"
      ],
      "execution_count": null,
      "outputs": [
        {
          "output_type": "execute_result",
          "data": {
            "text/html": [
              "<div>\n",
              "<style scoped>\n",
              "    .dataframe tbody tr th:only-of-type {\n",
              "        vertical-align: middle;\n",
              "    }\n",
              "\n",
              "    .dataframe tbody tr th {\n",
              "        vertical-align: top;\n",
              "    }\n",
              "\n",
              "    .dataframe thead th {\n",
              "        text-align: right;\n",
              "    }\n",
              "</style>\n",
              "<table border=\"1\" class=\"dataframe\">\n",
              "  <thead>\n",
              "    <tr style=\"text-align: right;\">\n",
              "      <th></th>\n",
              "      <th>0</th>\n",
              "    </tr>\n",
              "  </thead>\n",
              "  <tbody>\n",
              "    <tr>\n",
              "      <th>0</th>\n",
              "      <td>1.0</td>\n",
              "    </tr>\n",
              "    <tr>\n",
              "      <th>1</th>\n",
              "      <td>2.0</td>\n",
              "    </tr>\n",
              "    <tr>\n",
              "      <th>2</th>\n",
              "      <td>NaN</td>\n",
              "    </tr>\n",
              "    <tr>\n",
              "      <th>3</th>\n",
              "      <td>NaN</td>\n",
              "    </tr>\n",
              "  </tbody>\n",
              "</table>\n",
              "</div>"
            ],
            "text/plain": [
              "     0\n",
              "0  1.0\n",
              "1  2.0\n",
              "2  NaN\n",
              "3  NaN"
            ]
          },
          "metadata": {},
          "execution_count": 9
        }
      ]
    },
    {
      "cell_type": "markdown",
      "metadata": {
        "id": "UhYSs7VEIdyi"
      },
      "source": [
        "## Ejercicios"
      ]
    },
    {
      "cell_type": "code",
      "metadata": {
        "id": "vFj4g2TOhYFx"
      },
      "source": [
        "# Asignación de variables\n",
        "\n",
        "papaya=10\n",
        "platano=20\n",
        "fresa=100"
      ],
      "execution_count": null,
      "outputs": []
    },
    {
      "cell_type": "markdown",
      "metadata": {
        "id": "JqwDVbcDA3Mt"
      },
      "source": [
        "¿Como podria realizar al anterior codigo utilizando Asignacion de Variables multiple vistas en la presetación?"
      ]
    },
    {
      "cell_type": "code",
      "metadata": {
        "id": "jCCcTacDBCuO"
      },
      "source": [
        "## Escriba el codigo\n",
        "\n"
      ],
      "execution_count": null,
      "outputs": []
    },
    {
      "cell_type": "code",
      "metadata": {
        "colab": {
          "base_uri": "https://localhost:8080/"
        },
        "id": "h2bFWsV8hb0h",
        "outputId": "ec555456-248c-4c4d-8965-111f0b0dfe6f"
      },
      "source": [
        "#operaciones Basica\n",
        "\n",
        "print(papaya+platano)\n",
        "\n",
        "print(papaya//platano)\n",
        "\n",
        "print(papaya-platano)\n",
        "\n",
        "print(papaya/platano)\n",
        "\n",
        "print(fresa/platano)"
      ],
      "execution_count": null,
      "outputs": [
        {
          "output_type": "stream",
          "text": [
            "30\n",
            "0\n",
            "-10\n",
            "0.5\n",
            "5.0\n"
          ],
          "name": "stdout"
        }
      ]
    },
    {
      "cell_type": "markdown",
      "metadata": {
        "id": "YYN7Xtb6BLEn"
      },
      "source": [
        "¿Comó podria agregar operaciones como la potencia o la division de piso?"
      ]
    },
    {
      "cell_type": "code",
      "metadata": {
        "id": "YVjM4mc1EVsl"
      },
      "source": [
        "## Escriba el codigo\n",
        "\n"
      ],
      "execution_count": null,
      "outputs": []
    },
    {
      "cell_type": "code",
      "metadata": {
        "id": "DEADg4P1e2W5"
      },
      "source": [
        "# Siempre al principio, importamos las librerías.\n",
        "import pandas as pd\n",
        "import numpy as np"
      ],
      "execution_count": null,
      "outputs": []
    },
    {
      "cell_type": "markdown",
      "metadata": {
        "id": "zTXBVXa9e2W6"
      },
      "source": [
        "# Exploración\n",
        "\n",
        "Vamos a analizar datos de una fuente real. La vacunación a nivel nacional <a href='https://www.datosabiertos.gob.pe/dataset/vacunaci%C3%B3n-contra-covid-19-ministerio-de-salud-minsa'>portal de datos abiertos</a> del Peru.  \n",
        "\n",
        "En general los 4 primeros pasos para analizar un data set son:\n",
        "1. Leerlo\n",
        "2. Consultar cuáles son las columnas\n",
        "3. Extraer una muestra\n",
        "4. Verificar cuántos registros tiene"
      ]
    },
    {
      "cell_type": "markdown",
      "metadata": {
        "id": "z0MGPgfte2W7"
      },
      "source": [
        "## 1- Para leer el data set usamos la función de pandas read_csv\n",
        "\n",
        "Con esta función podemos leer archivos que estén en una url pública o en una ubicación del disco accesible desde la Jupyter Notebook."
      ]
    },
    {
      "cell_type": "code",
      "metadata": {
        "colab": {
          "base_uri": "https://localhost:8080/"
        },
        "id": "y2bBTREttfjW",
        "outputId": "23d8abae-d18c-4c78-b2d7-3efb0d7d2e25"
      },
      "source": [
        "from google.colab import drive\n",
        "drive.mount('/content/drive')"
      ],
      "execution_count": null,
      "outputs": [
        {
          "output_type": "stream",
          "name": "stdout",
          "text": [
            "Drive already mounted at /content/drive; to attempt to forcibly remount, call drive.mount(\"/content/drive\", force_remount=True).\n"
          ]
        }
      ]
    },
    {
      "cell_type": "code",
      "metadata": {
        "id": "lQrlzA3ee2W7"
      },
      "source": [
        "#df = pd.read_csv('https://cloud.minsa.gob.pe/s/To2QtqoNjKqobfw/download', encoding = 'latin-1', error_bad_lines=False, lineterminator='\\n')"
      ],
      "execution_count": null,
      "outputs": []
    },
    {
      "cell_type": "code",
      "metadata": {
        "id": "tVa2IXBd22qR"
      },
      "source": [
        "ruta = \"/content/drive/MyDrive/01. Docencia/03. PiP/00. Curso de Python PiP/04. Sesión 04/\"\n",
        "df = pd.read_csv(ruta + 'vacunas_covid_smpl.csv')"
      ],
      "execution_count": null,
      "outputs": []
    },
    {
      "cell_type": "code",
      "metadata": {
        "colab": {
          "base_uri": "https://localhost:8080/",
          "height": 275
        },
        "id": "4hNR8f4Rg3xB",
        "outputId": "6b8bad30-0d2f-484c-d619-a99c8737c9a6"
      },
      "source": [
        "df.head()"
      ],
      "execution_count": null,
      "outputs": [
        {
          "output_type": "execute_result",
          "data": {
            "text/html": [
              "<div>\n",
              "<style scoped>\n",
              "    .dataframe tbody tr th:only-of-type {\n",
              "        vertical-align: middle;\n",
              "    }\n",
              "\n",
              "    .dataframe tbody tr th {\n",
              "        vertical-align: top;\n",
              "    }\n",
              "\n",
              "    .dataframe thead th {\n",
              "        text-align: right;\n",
              "    }\n",
              "</style>\n",
              "<table border=\"1\" class=\"dataframe\">\n",
              "  <thead>\n",
              "    <tr style=\"text-align: right;\">\n",
              "      <th></th>\n",
              "      <th>FECHA_CORTE</th>\n",
              "      <th>UUID</th>\n",
              "      <th>GRUPO_RIESGO</th>\n",
              "      <th>EDAD</th>\n",
              "      <th>SEXO</th>\n",
              "      <th>FECHA_VACUNACION</th>\n",
              "      <th>DOSIS</th>\n",
              "      <th>FABRICANTE</th>\n",
              "      <th>DIRESA</th>\n",
              "      <th>DEPARTAMENTO</th>\n",
              "      <th>PROVINCIA</th>\n",
              "      <th>DISTRITO</th>\n",
              "    </tr>\n",
              "  </thead>\n",
              "  <tbody>\n",
              "    <tr>\n",
              "      <th>0</th>\n",
              "      <td>20210906</td>\n",
              "      <td>6506327</td>\n",
              "      <td>PERSONAS DE 30 A 39 AÑOS</td>\n",
              "      <td>37</td>\n",
              "      <td>FEMENINO</td>\n",
              "      <td>20210825</td>\n",
              "      <td>1</td>\n",
              "      <td>SINOPHARM</td>\n",
              "      <td>LIMA SUR</td>\n",
              "      <td>LIMA</td>\n",
              "      <td>LIMA</td>\n",
              "      <td>SAN JUAN DE MIRAFLORES</td>\n",
              "    </tr>\n",
              "    <tr>\n",
              "      <th>1</th>\n",
              "      <td>20210906</td>\n",
              "      <td>12962883</td>\n",
              "      <td>PERSONAS DE 50 A 59 AÑOS</td>\n",
              "      <td>58</td>\n",
              "      <td>FEMENINO</td>\n",
              "      <td>20210825</td>\n",
              "      <td>2</td>\n",
              "      <td>SINOPHARM</td>\n",
              "      <td>LA LIBERTAD</td>\n",
              "      <td>LA LIBERTAD</td>\n",
              "      <td>SANCHEZ CARRION</td>\n",
              "      <td>CURGOS</td>\n",
              "    </tr>\n",
              "    <tr>\n",
              "      <th>2</th>\n",
              "      <td>20210906</td>\n",
              "      <td>32474119</td>\n",
              "      <td>PERSONAS DE 40 A 49 AÑOS</td>\n",
              "      <td>46</td>\n",
              "      <td>FEMENINO</td>\n",
              "      <td>20210825</td>\n",
              "      <td>2</td>\n",
              "      <td>PFIZER</td>\n",
              "      <td>AREQUIPA</td>\n",
              "      <td>AREQUIPA</td>\n",
              "      <td>AREQUIPA</td>\n",
              "      <td>PAUCARPATA</td>\n",
              "    </tr>\n",
              "    <tr>\n",
              "      <th>3</th>\n",
              "      <td>20210906</td>\n",
              "      <td>24549343</td>\n",
              "      <td>ADULTO MAYOR</td>\n",
              "      <td>89</td>\n",
              "      <td>FEMENINO</td>\n",
              "      <td>20210825</td>\n",
              "      <td>1</td>\n",
              "      <td>PFIZER</td>\n",
              "      <td>CAJAMARCA</td>\n",
              "      <td>CAJAMARCA</td>\n",
              "      <td>CAJABAMBA</td>\n",
              "      <td>CONDEBAMBA</td>\n",
              "    </tr>\n",
              "    <tr>\n",
              "      <th>4</th>\n",
              "      <td>20210906</td>\n",
              "      <td>18924807</td>\n",
              "      <td>PERSONAS DE 30 A 39 AÑOS</td>\n",
              "      <td>34</td>\n",
              "      <td>FEMENINO</td>\n",
              "      <td>20210825</td>\n",
              "      <td>1</td>\n",
              "      <td>PFIZER</td>\n",
              "      <td>AREQUIPA</td>\n",
              "      <td>AREQUIPA</td>\n",
              "      <td>AREQUIPA</td>\n",
              "      <td>CAYMA</td>\n",
              "    </tr>\n",
              "  </tbody>\n",
              "</table>\n",
              "</div>"
            ],
            "text/plain": [
              "   FECHA_CORTE      UUID  ...        PROVINCIA                DISTRITO\n",
              "0     20210906   6506327  ...             LIMA  SAN JUAN DE MIRAFLORES\n",
              "1     20210906  12962883  ...  SANCHEZ CARRION                  CURGOS\n",
              "2     20210906  32474119  ...         AREQUIPA              PAUCARPATA\n",
              "3     20210906  24549343  ...        CAJABAMBA              CONDEBAMBA\n",
              "4     20210906  18924807  ...         AREQUIPA                   CAYMA\n",
              "\n",
              "[5 rows x 12 columns]"
            ]
          },
          "metadata": {},
          "execution_count": 15
        }
      ]
    },
    {
      "cell_type": "markdown",
      "metadata": {
        "id": "gwHrppE_e2W7"
      },
      "source": [
        "## 2- Consultamos las columnas\n"
      ]
    },
    {
      "cell_type": "code",
      "metadata": {
        "colab": {
          "base_uri": "https://localhost:8080/"
        },
        "id": "rHa7-ZPTe2W8",
        "outputId": "883cb0bb-d562-49dc-8144-908bbae6a001"
      },
      "source": [
        "df.columns"
      ],
      "execution_count": null,
      "outputs": [
        {
          "output_type": "execute_result",
          "data": {
            "text/plain": [
              "Index(['FECHA_CORTE', 'UUID', 'GRUPO_RIESGO', 'EDAD', 'SEXO',\n",
              "       'FECHA_VACUNACION', 'DOSIS', 'FABRICANTE', 'DIRESA', 'DEPARTAMENTO',\n",
              "       'PROVINCIA', 'DISTRITO'],\n",
              "      dtype='object')"
            ]
          },
          "metadata": {},
          "execution_count": 16
        }
      ]
    },
    {
      "cell_type": "markdown",
      "metadata": {
        "id": "B82BR_Sle2W8"
      },
      "source": [
        "## 3- Extraemos una muestra"
      ]
    },
    {
      "cell_type": "code",
      "metadata": {
        "colab": {
          "base_uri": "https://localhost:8080/",
          "height": 292
        },
        "id": "6g9-uZgHe2W8",
        "outputId": "b5803084-6605-4e40-8b87-f1a969eac265"
      },
      "source": [
        "df.sample(5)"
      ],
      "execution_count": null,
      "outputs": [
        {
          "output_type": "execute_result",
          "data": {
            "text/html": [
              "<div>\n",
              "<style scoped>\n",
              "    .dataframe tbody tr th:only-of-type {\n",
              "        vertical-align: middle;\n",
              "    }\n",
              "\n",
              "    .dataframe tbody tr th {\n",
              "        vertical-align: top;\n",
              "    }\n",
              "\n",
              "    .dataframe thead th {\n",
              "        text-align: right;\n",
              "    }\n",
              "</style>\n",
              "<table border=\"1\" class=\"dataframe\">\n",
              "  <thead>\n",
              "    <tr style=\"text-align: right;\">\n",
              "      <th></th>\n",
              "      <th>FECHA_CORTE</th>\n",
              "      <th>UUID</th>\n",
              "      <th>GRUPO_RIESGO</th>\n",
              "      <th>EDAD</th>\n",
              "      <th>SEXO</th>\n",
              "      <th>FECHA_VACUNACION</th>\n",
              "      <th>DOSIS</th>\n",
              "      <th>FABRICANTE</th>\n",
              "      <th>DIRESA</th>\n",
              "      <th>DEPARTAMENTO</th>\n",
              "      <th>PROVINCIA</th>\n",
              "      <th>DISTRITO</th>\n",
              "    </tr>\n",
              "  </thead>\n",
              "  <tbody>\n",
              "    <tr>\n",
              "      <th>566323</th>\n",
              "      <td>20210906</td>\n",
              "      <td>31606272</td>\n",
              "      <td>PERSONAS DE 40 A 49 AÑOS</td>\n",
              "      <td>40</td>\n",
              "      <td>FEMENINO</td>\n",
              "      <td>20210828</td>\n",
              "      <td>2</td>\n",
              "      <td>SINOPHARM</td>\n",
              "      <td>PIURA</td>\n",
              "      <td>PIURA</td>\n",
              "      <td>SECHURA</td>\n",
              "      <td>SECHURA</td>\n",
              "    </tr>\n",
              "    <tr>\n",
              "      <th>658749</th>\n",
              "      <td>20210906</td>\n",
              "      <td>10503851</td>\n",
              "      <td>PERSONAS DE 40 A 49 AÑOS</td>\n",
              "      <td>44</td>\n",
              "      <td>FEMENINO</td>\n",
              "      <td>20210828</td>\n",
              "      <td>2</td>\n",
              "      <td>SINOPHARM</td>\n",
              "      <td>LIMA</td>\n",
              "      <td>LIMA</td>\n",
              "      <td>CAÑETE</td>\n",
              "      <td>MALA</td>\n",
              "    </tr>\n",
              "    <tr>\n",
              "      <th>2033039</th>\n",
              "      <td>20210906</td>\n",
              "      <td>13944522</td>\n",
              "      <td>PERSONAS DE 30 A 39 AÑOS</td>\n",
              "      <td>38</td>\n",
              "      <td>MASCULINO</td>\n",
              "      <td>20210906</td>\n",
              "      <td>1</td>\n",
              "      <td>SINOPHARM</td>\n",
              "      <td>PASCO</td>\n",
              "      <td>PASCO</td>\n",
              "      <td>OXAPAMPA</td>\n",
              "      <td>PUERTO BERMUDEZ</td>\n",
              "    </tr>\n",
              "    <tr>\n",
              "      <th>1625396</th>\n",
              "      <td>20210906</td>\n",
              "      <td>15187823</td>\n",
              "      <td>PERSONAS DE 40 A 49 AÑOS</td>\n",
              "      <td>42</td>\n",
              "      <td>FEMENINO</td>\n",
              "      <td>20210904</td>\n",
              "      <td>1</td>\n",
              "      <td>PFIZER</td>\n",
              "      <td>PIURA</td>\n",
              "      <td>PIURA</td>\n",
              "      <td>SULLANA</td>\n",
              "      <td>SULLANA</td>\n",
              "    </tr>\n",
              "    <tr>\n",
              "      <th>1890728</th>\n",
              "      <td>20210906</td>\n",
              "      <td>20352865</td>\n",
              "      <td>PERSONAS DE 30 A 39 AÑOS</td>\n",
              "      <td>33</td>\n",
              "      <td>MASCULINO</td>\n",
              "      <td>20210905</td>\n",
              "      <td>1</td>\n",
              "      <td>SINOPHARM</td>\n",
              "      <td>CALLAO</td>\n",
              "      <td>CALLAO</td>\n",
              "      <td>CALLAO</td>\n",
              "      <td>CARMEN DE LA LEGUA REYNOSO</td>\n",
              "    </tr>\n",
              "  </tbody>\n",
              "</table>\n",
              "</div>"
            ],
            "text/plain": [
              "         FECHA_CORTE      UUID  ... PROVINCIA                    DISTRITO\n",
              "566323      20210906  31606272  ...   SECHURA                     SECHURA\n",
              "658749      20210906  10503851  ...    CAÑETE                        MALA\n",
              "2033039     20210906  13944522  ...  OXAPAMPA             PUERTO BERMUDEZ\n",
              "1625396     20210906  15187823  ...   SULLANA                     SULLANA\n",
              "1890728     20210906  20352865  ...    CALLAO  CARMEN DE LA LEGUA REYNOSO\n",
              "\n",
              "[5 rows x 12 columns]"
            ]
          },
          "metadata": {},
          "execution_count": 18
        }
      ]
    },
    {
      "cell_type": "markdown",
      "metadata": {
        "id": "tNDeVM0ye2W9"
      },
      "source": [
        "## 4- Consultamos la cantidad de filas y de columnas"
      ]
    },
    {
      "cell_type": "code",
      "metadata": {
        "colab": {
          "base_uri": "https://localhost:8080/"
        },
        "id": "nb0vOMpwe2W9",
        "outputId": "ffef2651-5180-4954-c1a3-a531b0a9169d"
      },
      "source": [
        "# La propiedad shape nos devuelve una tupla (filas,columnas)\n",
        "df.shape"
      ],
      "execution_count": null,
      "outputs": [
        {
          "output_type": "execute_result",
          "data": {
            "text/plain": [
              "(2071567, 12)"
            ]
          },
          "metadata": {},
          "execution_count": 19
        }
      ]
    },
    {
      "cell_type": "markdown",
      "metadata": {
        "id": "tODTIZbye2W9"
      },
      "source": [
        "# Vectorización con Pandas\n",
        "\n",
        "Pandas es una de las librerías de Python más usadas para análisis de datos. El nombre pandas viene de \"Panel Data Analysis\" y su funcionalidad permite hacer operaciones sobre datos que se encuentran en memoria de manera eficiente.\n",
        "\n",
        "Pandas es útil para trabajar sobre datos tabulares, con dos condiciones importantes:\n",
        "\n",
        "**I. Los datos se encuentran enteramente en la memoria RAM.** Con lo cual, el tamaño de los datos que podemos manipular está limitado por el hardware. Como regla de pulgar, es una buena práctica no ocupar más de 1/3 de la memoria RAM de nuestro dispositivo con el dataset. Así, si estamos trabajando localmente en una notebook con 8GB de memoria RAM no es recomendable procesar datasets de más de 2.33GB.\n",
        "\n",
        "**II. En pandas, las operaciones sobre filas y columnas son, en general, eficientes** porque se hacen de forma ***\"vectorizada\"***. En realidad esta optimización, se hace desde numpy, una librería para realizar operaciones matemáticas que se utilizó a su vez para escribir pandas.\n",
        "\n",
        "Las operaciones vectorizadas son las que se realizan en bloque en vez de caso por caso. Las computadoras de hoy tienen la capacidad de recibir muchas instrucciones juntas y procesar varias de ellas a la vez. Por ejemplo, si nuestro hardware tiene la capacidad de procesar 4 operaciones juntas, el resultado de vectorizar una operación matemática es el siguiente:\n",
        "\n",
        "<img src = 'https://datasets-humai.s3.amazonaws.com/images/vectorizacion.png' />\n",
        "\n",
        "\n",
        "En el primer caso hay que hacer 5 operaciones y en el segundo caso sólo dos.\n",
        "\n",
        "Es importante entender, entonces, que Pandas trabaja de esta manera y que por eso es una de las herramientas más elegidas para manipular datos en memoria.\n"
      ]
    },
    {
      "cell_type": "markdown",
      "metadata": {
        "id": "lmceti-Re2W-"
      },
      "source": [
        "\n",
        "\n",
        "# Los objetos fundamentales de Pandas\n",
        "\n",
        "## Series\n",
        "\n",
        "Las series son \"columnas\" que de una tabla que están asociadas a un índice y a un nombre. Igual que una lista común de Python es una secuencia de elementos ordenados, pero a diferencia de la lista está asociada a más información."
      ]
    },
    {
      "cell_type": "code",
      "metadata": {
        "id": "Mzz9OofSe2W-"
      },
      "source": [
        "# Las series se pueden crear a partir de una lista\n",
        "serie = pd.Series(['a','b','c'])"
      ],
      "execution_count": null,
      "outputs": []
    },
    {
      "cell_type": "code",
      "metadata": {
        "colab": {
          "base_uri": "https://localhost:8080/"
        },
        "id": "xkJThL_De2W-",
        "outputId": "938bb7d8-a90d-4b26-f1cf-81326ba4a35d"
      },
      "source": [
        "# Propiedades importantes de las series\n",
        "print('Tipo de objetos que tiene ', serie.dtype)\n",
        "print('Nombre ', serie.name)\n",
        "print('Index ',serie.index)\n",
        "print('Valores ',serie.values)\n"
      ],
      "execution_count": null,
      "outputs": [
        {
          "output_type": "stream",
          "text": [
            "Tipo de objetos que tiene  object\n",
            "Nombre  None\n",
            "Index  RangeIndex(start=0, stop=3, step=1)\n",
            "Valores  ['a' 'b' 'c']\n"
          ],
          "name": "stdout"
        }
      ]
    },
    {
      "cell_type": "markdown",
      "metadata": {
        "id": "xcC4jW0Ae2W_"
      },
      "source": [
        "## DataFrames\n",
        "\n",
        "Los DataFrames son \"tablas\", compuestas por varias \"columnas\" o series que comparten todas un mismo índice. En general los DataFrames se crean a partir de leer tablas de archivos (pueden ser en formato json o csv) pero a veces también se crean a partir de listas de diccionarios o de otras maneras.\n",
        "\n",
        "Los DataFrames tienen un objeto Index que describe los nombres de columnas y otro objeto Index que describen los nombres de las filas."
      ]
    },
    {
      "cell_type": "code",
      "metadata": {
        "id": "R8vWxBrWe2W_"
      },
      "source": [
        "# Leemos un dataset público\n",
        "df_casospositivos = pd.read_csv('https://cloud.minsa.gob.pe/s/Y8w3wHsEdYQSZRp/download',sep=';')"
      ],
      "execution_count": null,
      "outputs": []
    },
    {
      "cell_type": "code",
      "metadata": {
        "colab": {
          "base_uri": "https://localhost:8080/",
          "height": 205
        },
        "id": "9F3JfCwGw0QW",
        "outputId": "bfb08aa2-9fe9-4777-9189-70d2be385e46"
      },
      "source": [
        "df_casospositivos.head()"
      ],
      "execution_count": null,
      "outputs": [
        {
          "output_type": "execute_result",
          "data": {
            "text/html": [
              "<div>\n",
              "<style scoped>\n",
              "    .dataframe tbody tr th:only-of-type {\n",
              "        vertical-align: middle;\n",
              "    }\n",
              "\n",
              "    .dataframe tbody tr th {\n",
              "        vertical-align: top;\n",
              "    }\n",
              "\n",
              "    .dataframe thead th {\n",
              "        text-align: right;\n",
              "    }\n",
              "</style>\n",
              "<table border=\"1\" class=\"dataframe\">\n",
              "  <thead>\n",
              "    <tr style=\"text-align: right;\">\n",
              "      <th></th>\n",
              "      <th>FECHA_CORTE</th>\n",
              "      <th>UUID</th>\n",
              "      <th>DEPARTAMENTO</th>\n",
              "      <th>PROVINCIA</th>\n",
              "      <th>DISTRITO</th>\n",
              "      <th>METODODX</th>\n",
              "      <th>EDAD</th>\n",
              "      <th>SEXO</th>\n",
              "      <th>FECHA_RESULTADO</th>\n",
              "    </tr>\n",
              "  </thead>\n",
              "  <tbody>\n",
              "    <tr>\n",
              "      <th>0</th>\n",
              "      <td>20210703</td>\n",
              "      <td>7320cabdc1aaca6c59014cae76a134e6</td>\n",
              "      <td>LAMBAYEQUE</td>\n",
              "      <td>FERREÑAFE</td>\n",
              "      <td>FERREÑAFE</td>\n",
              "      <td>PR</td>\n",
              "      <td>35.0</td>\n",
              "      <td>FEMENINO</td>\n",
              "      <td>20200329.0</td>\n",
              "    </tr>\n",
              "    <tr>\n",
              "      <th>1</th>\n",
              "      <td>20210703</td>\n",
              "      <td>cecdbf10074dbc011ae05b3cbd320a6f</td>\n",
              "      <td>LIMA</td>\n",
              "      <td>LIMA</td>\n",
              "      <td>CHORRILLOS</td>\n",
              "      <td>PR</td>\n",
              "      <td>36.0</td>\n",
              "      <td>MASCULINO</td>\n",
              "      <td>20200330.0</td>\n",
              "    </tr>\n",
              "    <tr>\n",
              "      <th>2</th>\n",
              "      <td>20210703</td>\n",
              "      <td>71ecb6bccb248b0bb2ac72ed51b5e979</td>\n",
              "      <td>LIMA</td>\n",
              "      <td>LIMA</td>\n",
              "      <td>LIMA</td>\n",
              "      <td>PR</td>\n",
              "      <td>1.0</td>\n",
              "      <td>FEMENINO</td>\n",
              "      <td>20200330.0</td>\n",
              "    </tr>\n",
              "    <tr>\n",
              "      <th>3</th>\n",
              "      <td>20210703</td>\n",
              "      <td>566af4276cbe9359abe93f9aa86396c3</td>\n",
              "      <td>LIMA</td>\n",
              "      <td>LIMA</td>\n",
              "      <td>LIMA</td>\n",
              "      <td>PR</td>\n",
              "      <td>65.0</td>\n",
              "      <td>FEMENINO</td>\n",
              "      <td>20200330.0</td>\n",
              "    </tr>\n",
              "    <tr>\n",
              "      <th>4</th>\n",
              "      <td>20210703</td>\n",
              "      <td>027561e9d126e7c283d79c02cede562d</td>\n",
              "      <td>LIMA</td>\n",
              "      <td>LIMA</td>\n",
              "      <td>LIMA</td>\n",
              "      <td>PR</td>\n",
              "      <td>32.0</td>\n",
              "      <td>FEMENINO</td>\n",
              "      <td>20200330.0</td>\n",
              "    </tr>\n",
              "  </tbody>\n",
              "</table>\n",
              "</div>"
            ],
            "text/plain": [
              "   FECHA_CORTE                              UUID  ...       SEXO FECHA_RESULTADO\n",
              "0     20210703  7320cabdc1aaca6c59014cae76a134e6  ...   FEMENINO      20200329.0\n",
              "1     20210703  cecdbf10074dbc011ae05b3cbd320a6f  ...  MASCULINO      20200330.0\n",
              "2     20210703  71ecb6bccb248b0bb2ac72ed51b5e979  ...   FEMENINO      20200330.0\n",
              "3     20210703  566af4276cbe9359abe93f9aa86396c3  ...   FEMENINO      20200330.0\n",
              "4     20210703  027561e9d126e7c283d79c02cede562d  ...   FEMENINO      20200330.0\n",
              "\n",
              "[5 rows x 9 columns]"
            ]
          },
          "metadata": {},
          "execution_count": 22
        }
      ]
    },
    {
      "cell_type": "code",
      "metadata": {
        "id": "DsPd4_UKe2W_",
        "colab": {
          "base_uri": "https://localhost:8080/"
        },
        "outputId": "1c12cbf1-ac79-45e2-dbac-fb6cd7d383a6"
      },
      "source": [
        "# Propiedades importantes de los dataframes\n",
        "print('Columnas ', df_casospositivos.columns)\n",
        "print('Index ', df_casospositivos.index)\n",
        "print('Dimensiones ',df_casospositivos.shape)\n"
      ],
      "execution_count": null,
      "outputs": [
        {
          "output_type": "stream",
          "name": "stdout",
          "text": [
            "Columnas  Index(['FECHA_CORTE', 'UUID', 'DEPARTAMENTO', 'PROVINCIA', 'DISTRITO',\n",
            "       'METODODX', 'EDAD', 'SEXO', 'FECHA_RESULTADO'],\n",
            "      dtype='object')\n",
            "Index  RangeIndex(start=0, stop=2065113, step=1)\n",
            "Dimensiones  (2065113, 9)\n"
          ]
        }
      ]
    },
    {
      "cell_type": "code",
      "metadata": {
        "id": "zDqMrizye2W_",
        "colab": {
          "base_uri": "https://localhost:8080/",
          "height": 343
        },
        "outputId": "dfcd6519-4086-4551-dfd1-77f3c132f90a"
      },
      "source": [
        "# Consultar las primeras filas\n",
        "df_casospositivos.head(10)"
      ],
      "execution_count": null,
      "outputs": [
        {
          "output_type": "execute_result",
          "data": {
            "text/html": [
              "<div>\n",
              "<style scoped>\n",
              "    .dataframe tbody tr th:only-of-type {\n",
              "        vertical-align: middle;\n",
              "    }\n",
              "\n",
              "    .dataframe tbody tr th {\n",
              "        vertical-align: top;\n",
              "    }\n",
              "\n",
              "    .dataframe thead th {\n",
              "        text-align: right;\n",
              "    }\n",
              "</style>\n",
              "<table border=\"1\" class=\"dataframe\">\n",
              "  <thead>\n",
              "    <tr style=\"text-align: right;\">\n",
              "      <th></th>\n",
              "      <th>FECHA_CORTE</th>\n",
              "      <th>UUID</th>\n",
              "      <th>DEPARTAMENTO</th>\n",
              "      <th>PROVINCIA</th>\n",
              "      <th>DISTRITO</th>\n",
              "      <th>METODODX</th>\n",
              "      <th>EDAD</th>\n",
              "      <th>SEXO</th>\n",
              "      <th>FECHA_RESULTADO</th>\n",
              "    </tr>\n",
              "  </thead>\n",
              "  <tbody>\n",
              "    <tr>\n",
              "      <th>0</th>\n",
              "      <td>20210426</td>\n",
              "      <td>7320cabdc1aaca6c59014cae76a134e6</td>\n",
              "      <td>LIMA REGION</td>\n",
              "      <td>HUAROCHIRI</td>\n",
              "      <td>SAN ANTONIO</td>\n",
              "      <td>PR</td>\n",
              "      <td>41.0</td>\n",
              "      <td>FEMENINO</td>\n",
              "      <td>20200526.0</td>\n",
              "    </tr>\n",
              "    <tr>\n",
              "      <th>1</th>\n",
              "      <td>20210426</td>\n",
              "      <td>cecdbf10074dbc011ae05b3cbd320a6f</td>\n",
              "      <td>LIMA REGION</td>\n",
              "      <td>HUARAL</td>\n",
              "      <td>HUARAL</td>\n",
              "      <td>PR</td>\n",
              "      <td>51.0</td>\n",
              "      <td>FEMENINO</td>\n",
              "      <td>20200529.0</td>\n",
              "    </tr>\n",
              "    <tr>\n",
              "      <th>2</th>\n",
              "      <td>20210426</td>\n",
              "      <td>71ecb6bccb248b0bb2ac72ed51b5e979</td>\n",
              "      <td>APURIMAC</td>\n",
              "      <td>ABANCAY</td>\n",
              "      <td>ABANCAY</td>\n",
              "      <td>PR</td>\n",
              "      <td>32.0</td>\n",
              "      <td>FEMENINO</td>\n",
              "      <td>20200425.0</td>\n",
              "    </tr>\n",
              "    <tr>\n",
              "      <th>3</th>\n",
              "      <td>20210426</td>\n",
              "      <td>566af4276cbe9359abe93f9aa86396c3</td>\n",
              "      <td>APURIMAC</td>\n",
              "      <td>ABANCAY</td>\n",
              "      <td>ABANCAY</td>\n",
              "      <td>PR</td>\n",
              "      <td>34.0</td>\n",
              "      <td>FEMENINO</td>\n",
              "      <td>20200429.0</td>\n",
              "    </tr>\n",
              "    <tr>\n",
              "      <th>4</th>\n",
              "      <td>20210426</td>\n",
              "      <td>027561e9d126e7c283d79c02cede562d</td>\n",
              "      <td>APURIMAC</td>\n",
              "      <td>ANDAHUAYLAS</td>\n",
              "      <td>ANDAHUAYLAS</td>\n",
              "      <td>PR</td>\n",
              "      <td>40.0</td>\n",
              "      <td>FEMENINO</td>\n",
              "      <td>20200426.0</td>\n",
              "    </tr>\n",
              "    <tr>\n",
              "      <th>5</th>\n",
              "      <td>20210426</td>\n",
              "      <td>f016889b9ba5bd95cf15d60205cbd82e</td>\n",
              "      <td>APURIMAC</td>\n",
              "      <td>ABANCAY</td>\n",
              "      <td>ABANCAY</td>\n",
              "      <td>PR</td>\n",
              "      <td>40.0</td>\n",
              "      <td>FEMENINO</td>\n",
              "      <td>20200428.0</td>\n",
              "    </tr>\n",
              "    <tr>\n",
              "      <th>6</th>\n",
              "      <td>20210426</td>\n",
              "      <td>971f8e1295583756d81fe42f3318488c</td>\n",
              "      <td>APURIMAC</td>\n",
              "      <td>ABANCAY</td>\n",
              "      <td>ABANCAY</td>\n",
              "      <td>PR</td>\n",
              "      <td>47.0</td>\n",
              "      <td>FEMENINO</td>\n",
              "      <td>20200427.0</td>\n",
              "    </tr>\n",
              "    <tr>\n",
              "      <th>7</th>\n",
              "      <td>20210426</td>\n",
              "      <td>bc45b71b005a96f32eeb97060616a999</td>\n",
              "      <td>APURIMAC</td>\n",
              "      <td>ABANCAY</td>\n",
              "      <td>ABANCAY</td>\n",
              "      <td>PR</td>\n",
              "      <td>49.0</td>\n",
              "      <td>FEMENINO</td>\n",
              "      <td>20200427.0</td>\n",
              "    </tr>\n",
              "    <tr>\n",
              "      <th>8</th>\n",
              "      <td>20210426</td>\n",
              "      <td>0e2a1928ddd07d99978758e86b034131</td>\n",
              "      <td>APURIMAC</td>\n",
              "      <td>ABANCAY</td>\n",
              "      <td>ABANCAY</td>\n",
              "      <td>PR</td>\n",
              "      <td>53.0</td>\n",
              "      <td>FEMENINO</td>\n",
              "      <td>20200427.0</td>\n",
              "    </tr>\n",
              "    <tr>\n",
              "      <th>9</th>\n",
              "      <td>20210426</td>\n",
              "      <td>1caabc6f4c64b5910bd8254fa0f949ce</td>\n",
              "      <td>APURIMAC</td>\n",
              "      <td>ABANCAY</td>\n",
              "      <td>ABANCAY</td>\n",
              "      <td>PR</td>\n",
              "      <td>60.0</td>\n",
              "      <td>FEMENINO</td>\n",
              "      <td>20200425.0</td>\n",
              "    </tr>\n",
              "  </tbody>\n",
              "</table>\n",
              "</div>"
            ],
            "text/plain": [
              "   FECHA_CORTE                              UUID  ...      SEXO FECHA_RESULTADO\n",
              "0     20210426  7320cabdc1aaca6c59014cae76a134e6  ...  FEMENINO      20200526.0\n",
              "1     20210426  cecdbf10074dbc011ae05b3cbd320a6f  ...  FEMENINO      20200529.0\n",
              "2     20210426  71ecb6bccb248b0bb2ac72ed51b5e979  ...  FEMENINO      20200425.0\n",
              "3     20210426  566af4276cbe9359abe93f9aa86396c3  ...  FEMENINO      20200429.0\n",
              "4     20210426  027561e9d126e7c283d79c02cede562d  ...  FEMENINO      20200426.0\n",
              "5     20210426  f016889b9ba5bd95cf15d60205cbd82e  ...  FEMENINO      20200428.0\n",
              "6     20210426  971f8e1295583756d81fe42f3318488c  ...  FEMENINO      20200427.0\n",
              "7     20210426  bc45b71b005a96f32eeb97060616a999  ...  FEMENINO      20200427.0\n",
              "8     20210426  0e2a1928ddd07d99978758e86b034131  ...  FEMENINO      20200427.0\n",
              "9     20210426  1caabc6f4c64b5910bd8254fa0f949ce  ...  FEMENINO      20200425.0\n",
              "\n",
              "[10 rows x 9 columns]"
            ]
          },
          "metadata": {
            "tags": []
          },
          "execution_count": 16
        }
      ]
    },
    {
      "cell_type": "code",
      "metadata": {
        "colab": {
          "base_uri": "https://localhost:8080/",
          "height": 343
        },
        "id": "YT2W8LYWC1tT",
        "outputId": "24745dad-78bc-4ce9-ecc8-1bb92b42dfa0"
      },
      "source": [
        "df_casospositivos.tail(10)"
      ],
      "execution_count": null,
      "outputs": [
        {
          "output_type": "execute_result",
          "data": {
            "text/html": [
              "<div>\n",
              "<style scoped>\n",
              "    .dataframe tbody tr th:only-of-type {\n",
              "        vertical-align: middle;\n",
              "    }\n",
              "\n",
              "    .dataframe tbody tr th {\n",
              "        vertical-align: top;\n",
              "    }\n",
              "\n",
              "    .dataframe thead th {\n",
              "        text-align: right;\n",
              "    }\n",
              "</style>\n",
              "<table border=\"1\" class=\"dataframe\">\n",
              "  <thead>\n",
              "    <tr style=\"text-align: right;\">\n",
              "      <th></th>\n",
              "      <th>FECHA_CORTE</th>\n",
              "      <th>UUID</th>\n",
              "      <th>DEPARTAMENTO</th>\n",
              "      <th>PROVINCIA</th>\n",
              "      <th>DISTRITO</th>\n",
              "      <th>METODODX</th>\n",
              "      <th>EDAD</th>\n",
              "      <th>SEXO</th>\n",
              "      <th>FECHA_RESULTADO</th>\n",
              "    </tr>\n",
              "  </thead>\n",
              "  <tbody>\n",
              "    <tr>\n",
              "      <th>1775052</th>\n",
              "      <td>20210426</td>\n",
              "      <td>04a4230a3e097abedcb48a3defdb9ee5</td>\n",
              "      <td>LAMBAYEQUE</td>\n",
              "      <td>CHICLAYO</td>\n",
              "      <td>CHICLAYO</td>\n",
              "      <td>PCR</td>\n",
              "      <td>75.0</td>\n",
              "      <td>MASCULINO</td>\n",
              "      <td>20210128.0</td>\n",
              "    </tr>\n",
              "    <tr>\n",
              "      <th>1775053</th>\n",
              "      <td>20210426</td>\n",
              "      <td>caa1fcf79c547749ddade1e14267a29f</td>\n",
              "      <td>ANCASH</td>\n",
              "      <td>SANTA</td>\n",
              "      <td>CHIMBOTE</td>\n",
              "      <td>PCR</td>\n",
              "      <td>80.0</td>\n",
              "      <td>MASCULINO</td>\n",
              "      <td>20210128.0</td>\n",
              "    </tr>\n",
              "    <tr>\n",
              "      <th>1775054</th>\n",
              "      <td>20210426</td>\n",
              "      <td>9e558f68eadaebae542a5fdd5b3b3bd6</td>\n",
              "      <td>ANCASH</td>\n",
              "      <td>SANTA</td>\n",
              "      <td>CHIMBOTE</td>\n",
              "      <td>PCR</td>\n",
              "      <td>83.0</td>\n",
              "      <td>MASCULINO</td>\n",
              "      <td>20210128.0</td>\n",
              "    </tr>\n",
              "    <tr>\n",
              "      <th>1775055</th>\n",
              "      <td>20210426</td>\n",
              "      <td>f5ff804fe45f77705b94f31265b68a9e</td>\n",
              "      <td>ANCASH</td>\n",
              "      <td>SANTA</td>\n",
              "      <td>CHIMBOTE</td>\n",
              "      <td>PCR</td>\n",
              "      <td>80.0</td>\n",
              "      <td>MASCULINO</td>\n",
              "      <td>20210130.0</td>\n",
              "    </tr>\n",
              "    <tr>\n",
              "      <th>1775056</th>\n",
              "      <td>20210426</td>\n",
              "      <td>ccb43c6eac4d968e1180937762014cda</td>\n",
              "      <td>ANCASH</td>\n",
              "      <td>SANTA</td>\n",
              "      <td>CHIMBOTE</td>\n",
              "      <td>PCR</td>\n",
              "      <td>80.0</td>\n",
              "      <td>MASCULINO</td>\n",
              "      <td>20210130.0</td>\n",
              "    </tr>\n",
              "    <tr>\n",
              "      <th>1775057</th>\n",
              "      <td>20210426</td>\n",
              "      <td>ed1b60041aab89fa5c0698269523168b</td>\n",
              "      <td>ANCASH</td>\n",
              "      <td>SANTA</td>\n",
              "      <td>CHIMBOTE</td>\n",
              "      <td>PCR</td>\n",
              "      <td>83.0</td>\n",
              "      <td>MASCULINO</td>\n",
              "      <td>20210130.0</td>\n",
              "    </tr>\n",
              "    <tr>\n",
              "      <th>1775058</th>\n",
              "      <td>20210426</td>\n",
              "      <td>3a217fa628d1f01722f5447dbd53c5c2</td>\n",
              "      <td>ANCASH</td>\n",
              "      <td>SANTA</td>\n",
              "      <td>CHIMBOTE</td>\n",
              "      <td>PCR</td>\n",
              "      <td>86.0</td>\n",
              "      <td>MASCULINO</td>\n",
              "      <td>20210130.0</td>\n",
              "    </tr>\n",
              "    <tr>\n",
              "      <th>1775059</th>\n",
              "      <td>20210426</td>\n",
              "      <td>f92db6ac5eeff268beae36d03f490aea</td>\n",
              "      <td>ANCASH</td>\n",
              "      <td>SANTA</td>\n",
              "      <td>CHIMBOTE</td>\n",
              "      <td>PCR</td>\n",
              "      <td>81.0</td>\n",
              "      <td>MASCULINO</td>\n",
              "      <td>20210131.0</td>\n",
              "    </tr>\n",
              "    <tr>\n",
              "      <th>1775060</th>\n",
              "      <td>20210426</td>\n",
              "      <td>14044d56918b88df074ffedb574b3727</td>\n",
              "      <td>ANCASH</td>\n",
              "      <td>SANTA</td>\n",
              "      <td>COISHCO</td>\n",
              "      <td>PCR</td>\n",
              "      <td>82.0</td>\n",
              "      <td>MASCULINO</td>\n",
              "      <td>20210201.0</td>\n",
              "    </tr>\n",
              "    <tr>\n",
              "      <th>1775061</th>\n",
              "      <td>20210426</td>\n",
              "      <td>e79fae7bc39060ed00b2dd4a9b13c803</td>\n",
              "      <td>ANCASH</td>\n",
              "      <td>SANTA</td>\n",
              "      <td>CHIMBOTE</td>\n",
              "      <td>PCR</td>\n",
              "      <td>82.0</td>\n",
              "      <td>MASCULINO</td>\n",
              "      <td>20210201.0</td>\n",
              "    </tr>\n",
              "  </tbody>\n",
              "</table>\n",
              "</div>"
            ],
            "text/plain": [
              "         FECHA_CORTE  ... FECHA_RESULTADO\n",
              "1775052     20210426  ...      20210128.0\n",
              "1775053     20210426  ...      20210128.0\n",
              "1775054     20210426  ...      20210128.0\n",
              "1775055     20210426  ...      20210130.0\n",
              "1775056     20210426  ...      20210130.0\n",
              "1775057     20210426  ...      20210130.0\n",
              "1775058     20210426  ...      20210130.0\n",
              "1775059     20210426  ...      20210131.0\n",
              "1775060     20210426  ...      20210201.0\n",
              "1775061     20210426  ...      20210201.0\n",
              "\n",
              "[10 rows x 9 columns]"
            ]
          },
          "metadata": {
            "tags": []
          },
          "execution_count": 21
        }
      ]
    },
    {
      "cell_type": "markdown",
      "metadata": {
        "id": "3DSEAG5Ye2W_"
      },
      "source": [
        "Si queremos extraer una serie del DataFrame, podemos hacerlo de la misma forma en que extraemos un valor de un diccionario.\n",
        "\n"
      ]
    },
    {
      "cell_type": "code",
      "metadata": {
        "id": "NR5Z1oXbe2XA"
      },
      "source": [
        "serie_mes = df_casospositivos['FECHA_RESULTADO']"
      ],
      "execution_count": null,
      "outputs": []
    },
    {
      "cell_type": "code",
      "metadata": {
        "id": "bSirxBrte2XA",
        "colab": {
          "base_uri": "https://localhost:8080/"
        },
        "outputId": "af8f6f59-9547-4ffd-d62d-53ef2cafafd8"
      },
      "source": [
        "type(serie_mes)"
      ],
      "execution_count": null,
      "outputs": [
        {
          "output_type": "execute_result",
          "data": {
            "text/plain": [
              "pandas.core.series.Series"
            ]
          },
          "metadata": {
            "tags": []
          },
          "execution_count": 25
        }
      ]
    },
    {
      "cell_type": "code",
      "metadata": {
        "colab": {
          "base_uri": "https://localhost:8080/"
        },
        "id": "6FW2Mwu7Cwm1",
        "outputId": "45651fc4-b2ec-4c0a-e0ae-e30b824b59ba"
      },
      "source": [
        "serie_mes"
      ],
      "execution_count": null,
      "outputs": [
        {
          "output_type": "execute_result",
          "data": {
            "text/plain": [
              "0          20200526.0\n",
              "1          20200529.0\n",
              "2          20200425.0\n",
              "3          20200429.0\n",
              "4          20200426.0\n",
              "              ...    \n",
              "1775057    20210130.0\n",
              "1775058    20210130.0\n",
              "1775059    20210131.0\n",
              "1775060    20210201.0\n",
              "1775061    20210201.0\n",
              "Name: FECHA_RESULTADO, Length: 1775062, dtype: float64"
            ]
          },
          "metadata": {
            "tags": []
          },
          "execution_count": 26
        }
      ]
    },
    {
      "cell_type": "markdown",
      "metadata": {
        "id": "RiQL-DSze2XA"
      },
      "source": [
        "## Índices\n",
        "\n",
        "Los índices acompañan a las series y a los Data Frames. Son conjuntos ordenados e inmutables de elementos"
      ]
    },
    {
      "cell_type": "code",
      "metadata": {
        "colab": {
          "base_uri": "https://localhost:8080/"
        },
        "id": "AaVee7woe2XA",
        "outputId": "fe6b7422-440f-40cd-f4aa-b57e6fe91290"
      },
      "source": [
        "df_casospositivos.index"
      ],
      "execution_count": null,
      "outputs": [
        {
          "output_type": "execute_result",
          "data": {
            "text/plain": [
              "RangeIndex(start=0, stop=1775062, step=1)"
            ]
          },
          "metadata": {
            "tags": []
          },
          "execution_count": 27
        }
      ]
    },
    {
      "cell_type": "code",
      "metadata": {
        "colab": {
          "base_uri": "https://localhost:8080/"
        },
        "id": "LY_H6vBoe2XA",
        "outputId": "8b49a774-e779-4b7b-f172-1b03a6d2ad4b"
      },
      "source": [
        "df_casospositivos.columns"
      ],
      "execution_count": null,
      "outputs": [
        {
          "output_type": "execute_result",
          "data": {
            "text/plain": [
              "Index(['FECHA_CORTE', 'UUID', 'DEPARTAMENTO', 'PROVINCIA', 'DISTRITO',\n",
              "       'METODODX', 'EDAD', 'SEXO', 'FECHA_RESULTADO'],\n",
              "      dtype='object')"
            ]
          },
          "metadata": {
            "tags": []
          },
          "execution_count": 28
        }
      ]
    },
    {
      "cell_type": "markdown",
      "metadata": {
        "id": "5msZbd7ce2XB"
      },
      "source": [
        "Ejercicio: exploren el dataset público que se encuentra en la siguiente url: https://datasets-humai.s3.amazonaws.com/datasets/titanic.csv ¿De qué se trata? ¿Cuántas filas tiene? ¿Cuántas columnas? Al leerlo, pueden almacenarlo en la variable df_titanic."
      ]
    },
    {
      "cell_type": "code",
      "metadata": {
        "id": "nz6BGZ3ne2XB"
      },
      "source": [
        "df_titanic = pd.read_csv(\"https://datasets-humai.s3.amazonaws.com/datasets/titanic.csv\",sep='|')"
      ],
      "execution_count": null,
      "outputs": []
    },
    {
      "cell_type": "code",
      "metadata": {
        "colab": {
          "base_uri": "https://localhost:8080/",
          "height": 205
        },
        "id": "vlWjf5jpe2XB",
        "outputId": "9747f657-6206-41d7-e0cb-674277c674c7"
      },
      "source": [
        "df_titanic.sample(5)"
      ],
      "execution_count": null,
      "outputs": [
        {
          "output_type": "execute_result",
          "data": {
            "text/html": [
              "<div>\n",
              "<style scoped>\n",
              "    .dataframe tbody tr th:only-of-type {\n",
              "        vertical-align: middle;\n",
              "    }\n",
              "\n",
              "    .dataframe tbody tr th {\n",
              "        vertical-align: top;\n",
              "    }\n",
              "\n",
              "    .dataframe thead th {\n",
              "        text-align: right;\n",
              "    }\n",
              "</style>\n",
              "<table border=\"1\" class=\"dataframe\">\n",
              "  <thead>\n",
              "    <tr style=\"text-align: right;\">\n",
              "      <th></th>\n",
              "      <th>PassengerId</th>\n",
              "      <th>Survived</th>\n",
              "      <th>Pclass</th>\n",
              "      <th>Name</th>\n",
              "      <th>Sex</th>\n",
              "      <th>Age</th>\n",
              "      <th>SibSp</th>\n",
              "      <th>Parch</th>\n",
              "      <th>Ticket</th>\n",
              "      <th>Fare</th>\n",
              "      <th>Cabin</th>\n",
              "      <th>Embarked</th>\n",
              "    </tr>\n",
              "  </thead>\n",
              "  <tbody>\n",
              "    <tr>\n",
              "      <th>428</th>\n",
              "      <td>429</td>\n",
              "      <td>0</td>\n",
              "      <td>3</td>\n",
              "      <td>Flynn, Mr. James</td>\n",
              "      <td>male</td>\n",
              "      <td>NaN</td>\n",
              "      <td>0</td>\n",
              "      <td>0</td>\n",
              "      <td>364851</td>\n",
              "      <td>7.7500</td>\n",
              "      <td>NaN</td>\n",
              "      <td>Q</td>\n",
              "    </tr>\n",
              "    <tr>\n",
              "      <th>49</th>\n",
              "      <td>50</td>\n",
              "      <td>0</td>\n",
              "      <td>3</td>\n",
              "      <td>Arnold-Franchi, Mrs. Josef (Josefine Franchi)</td>\n",
              "      <td>female</td>\n",
              "      <td>18.0</td>\n",
              "      <td>1</td>\n",
              "      <td>0</td>\n",
              "      <td>349237</td>\n",
              "      <td>17.8000</td>\n",
              "      <td>NaN</td>\n",
              "      <td>S</td>\n",
              "    </tr>\n",
              "    <tr>\n",
              "      <th>882</th>\n",
              "      <td>883</td>\n",
              "      <td>0</td>\n",
              "      <td>3</td>\n",
              "      <td>Dahlberg, Miss. Gerda Ulrika</td>\n",
              "      <td>female</td>\n",
              "      <td>22.0</td>\n",
              "      <td>0</td>\n",
              "      <td>0</td>\n",
              "      <td>7552</td>\n",
              "      <td>10.5167</td>\n",
              "      <td>NaN</td>\n",
              "      <td>S</td>\n",
              "    </tr>\n",
              "    <tr>\n",
              "      <th>521</th>\n",
              "      <td>522</td>\n",
              "      <td>0</td>\n",
              "      <td>3</td>\n",
              "      <td>Vovk, Mr. Janko</td>\n",
              "      <td>male</td>\n",
              "      <td>22.0</td>\n",
              "      <td>0</td>\n",
              "      <td>0</td>\n",
              "      <td>349252</td>\n",
              "      <td>7.8958</td>\n",
              "      <td>NaN</td>\n",
              "      <td>S</td>\n",
              "    </tr>\n",
              "    <tr>\n",
              "      <th>762</th>\n",
              "      <td>763</td>\n",
              "      <td>1</td>\n",
              "      <td>3</td>\n",
              "      <td>Barah, Mr. Hanna Assi</td>\n",
              "      <td>male</td>\n",
              "      <td>20.0</td>\n",
              "      <td>0</td>\n",
              "      <td>0</td>\n",
              "      <td>2663</td>\n",
              "      <td>7.2292</td>\n",
              "      <td>NaN</td>\n",
              "      <td>C</td>\n",
              "    </tr>\n",
              "  </tbody>\n",
              "</table>\n",
              "</div>"
            ],
            "text/plain": [
              "     PassengerId  Survived  Pclass  ...     Fare Cabin  Embarked\n",
              "428          429         0       3  ...   7.7500   NaN         Q\n",
              "49            50         0       3  ...  17.8000   NaN         S\n",
              "882          883         0       3  ...  10.5167   NaN         S\n",
              "521          522         0       3  ...   7.8958   NaN         S\n",
              "762          763         1       3  ...   7.2292   NaN         C\n",
              "\n",
              "[5 rows x 12 columns]"
            ]
          },
          "metadata": {},
          "execution_count": 24
        }
      ]
    },
    {
      "cell_type": "code",
      "metadata": {
        "colab": {
          "base_uri": "https://localhost:8080/"
        },
        "id": "wbJ3GLg6e2XB",
        "outputId": "029de835-5e4c-4100-a30a-83f9610dbeef"
      },
      "source": [
        "df_titanic.shape"
      ],
      "execution_count": null,
      "outputs": [
        {
          "output_type": "execute_result",
          "data": {
            "text/plain": [
              "(891, 12)"
            ]
          },
          "metadata": {},
          "execution_count": 25
        }
      ]
    },
    {
      "cell_type": "markdown",
      "metadata": {
        "id": "UgOty1HOe2XC"
      },
      "source": [
        "## Filtrando un DataFrame (Indexing)\n",
        "\n",
        "Hay muchas técnicas para filtrar un DataFrame. Podemos querer filtrar por columnas o por filas, por posición o por nombre. También podemos querer filtrar por condiciones que se cumplen o no. Cuando no queremos filtrar sobre una dimensión (filas o columnas) usamos \":\" para seleccionar todo.\n",
        "\n",
        "\n"
      ]
    },
    {
      "cell_type": "markdown",
      "metadata": {
        "id": "AWsOzLGLe2XC"
      },
      "source": [
        "### Boolean Indexing\n",
        "\n",
        "Supongamos que queremos tomar el dataset de funcionarios y quedarnos únicamente con los que pertenecen al Ministerio de Cultura.\n",
        "Para eso lo que hacemos es indexar al DataFrame por una condición booleana. Eso implica que debemos crear una serie compuesta por valores True y False para aplicarla como índice a las filas.\n",
        "\n",
        "Los operadores que sirven para evaluar condiciones sobre las series son:\n",
        "\n",
        "\n",
        "| S  | Descripción   | S  | Descripción   |   |\n",
        "|----|---------------|----|---------------|---|\n",
        "| >= | Mayor o Igual | <= | Menor o Igual |   |\n",
        "| == | Igual         | != | Distinto      |   |\n",
        "| >  | Mayor         | <  | Menor         |   |"
      ]
    },
    {
      "cell_type": "markdown",
      "metadata": {
        "id": "urK6snIGe2XC"
      },
      "source": [
        "#### Máscara booleana\n",
        "\n",
        "Veamos lo que pasa cuando le aplicamos a una serie una condición que devuelve un booleano"
      ]
    },
    {
      "cell_type": "code",
      "metadata": {
        "id": "pBEjoJ6Ce2XC",
        "colab": {
          "base_uri": "https://localhost:8080/"
        },
        "outputId": "b364f560-bcc5-48bf-d72f-165e8fa18e1d"
      },
      "source": [
        "df_casospositivos['DEPARTAMENTO'] != 'JUNIN'"
      ],
      "execution_count": null,
      "outputs": [
        {
          "output_type": "execute_result",
          "data": {
            "text/plain": [
              "0          True\n",
              "1          True\n",
              "2          True\n",
              "3          True\n",
              "4          True\n",
              "           ... \n",
              "2065108    True\n",
              "2065109    True\n",
              "2065110    True\n",
              "2065111    True\n",
              "2065112    True\n",
              "Name: DEPARTAMENTO, Length: 2065113, dtype: bool"
            ]
          },
          "metadata": {},
          "execution_count": 27
        }
      ]
    },
    {
      "cell_type": "code",
      "metadata": {
        "id": "6qKR1r2Me2XD"
      },
      "source": [
        "mascara_booleana = df_casospositivos['DEPARTAMENTO'] != 'JUNIN'"
      ],
      "execution_count": null,
      "outputs": []
    },
    {
      "cell_type": "markdown",
      "metadata": {
        "id": "yfMLbfQae2XD"
      },
      "source": [
        "Nos devuelve una serie de la misma longitud que la original y que contiene sólo valores True o False."
      ]
    },
    {
      "cell_type": "code",
      "metadata": {
        "id": "I-XDGbqre2XD",
        "colab": {
          "base_uri": "https://localhost:8080/"
        },
        "outputId": "32057bdd-2650-45d9-b2bc-f0a8373852af"
      },
      "source": [
        "type(mascara_booleana)"
      ],
      "execution_count": null,
      "outputs": [
        {
          "output_type": "execute_result",
          "data": {
            "text/plain": [
              "pandas.core.series.Series"
            ]
          },
          "metadata": {},
          "execution_count": 29
        }
      ]
    },
    {
      "cell_type": "code",
      "metadata": {
        "id": "VCP87LcXe2XD",
        "colab": {
          "base_uri": "https://localhost:8080/"
        },
        "outputId": "2b80ca42-7c8c-40f7-c5c0-8a2175e084a4"
      },
      "source": [
        "mascara_booleana.shape"
      ],
      "execution_count": null,
      "outputs": [
        {
          "output_type": "execute_result",
          "data": {
            "text/plain": [
              "(2065113,)"
            ]
          },
          "metadata": {},
          "execution_count": 30
        }
      ]
    },
    {
      "cell_type": "code",
      "metadata": {
        "id": "qntXIoxre2XD",
        "colab": {
          "base_uri": "https://localhost:8080/"
        },
        "outputId": "d8ddda8e-46fd-4c36-b241-1af624cc01e9"
      },
      "source": [
        "mascara_booleana.dtype\n",
        "\n"
      ],
      "execution_count": null,
      "outputs": [
        {
          "output_type": "execute_result",
          "data": {
            "text/plain": [
              "dtype('bool')"
            ]
          },
          "metadata": {},
          "execution_count": 31
        }
      ]
    },
    {
      "cell_type": "markdown",
      "metadata": {
        "id": "BYYgH7G1e2XE"
      },
      "source": [
        "Ahora seleccionemos entonces, los registros que corresponden al sexo masculino"
      ]
    },
    {
      "cell_type": "code",
      "metadata": {
        "id": "NBjuYcaEe2XE"
      },
      "source": [
        "df_mas = df_casospositivos.loc[df_casospositivos['EDAD'] > 40 ,:]"
      ],
      "execution_count": null,
      "outputs": []
    },
    {
      "cell_type": "code",
      "metadata": {
        "id": "c4iykhWve2XE",
        "colab": {
          "base_uri": "https://localhost:8080/"
        },
        "outputId": "f88ac430-b266-468b-ff54-3846da885d43"
      },
      "source": [
        "# Veamos la cantidad de casos\n",
        "df_mas.shape"
      ],
      "execution_count": null,
      "outputs": [
        {
          "output_type": "execute_result",
          "data": {
            "text/plain": [
              "(1059060, 9)"
            ]
          },
          "metadata": {},
          "execution_count": 33
        }
      ]
    },
    {
      "cell_type": "code",
      "metadata": {
        "colab": {
          "base_uri": "https://localhost:8080/",
          "height": 422
        },
        "id": "27iodvdEEelG",
        "outputId": "3b64f536-e96f-4d95-8d26-47bc94d9e945"
      },
      "source": [
        "df_mas"
      ],
      "execution_count": null,
      "outputs": [
        {
          "output_type": "execute_result",
          "data": {
            "text/html": [
              "<div>\n",
              "<style scoped>\n",
              "    .dataframe tbody tr th:only-of-type {\n",
              "        vertical-align: middle;\n",
              "    }\n",
              "\n",
              "    .dataframe tbody tr th {\n",
              "        vertical-align: top;\n",
              "    }\n",
              "\n",
              "    .dataframe thead th {\n",
              "        text-align: right;\n",
              "    }\n",
              "</style>\n",
              "<table border=\"1\" class=\"dataframe\">\n",
              "  <thead>\n",
              "    <tr style=\"text-align: right;\">\n",
              "      <th></th>\n",
              "      <th>FECHA_CORTE</th>\n",
              "      <th>UUID</th>\n",
              "      <th>DEPARTAMENTO</th>\n",
              "      <th>PROVINCIA</th>\n",
              "      <th>DISTRITO</th>\n",
              "      <th>METODODX</th>\n",
              "      <th>EDAD</th>\n",
              "      <th>SEXO</th>\n",
              "      <th>FECHA_RESULTADO</th>\n",
              "    </tr>\n",
              "  </thead>\n",
              "  <tbody>\n",
              "    <tr>\n",
              "      <th>1</th>\n",
              "      <td>20210703</td>\n",
              "      <td>cecdbf10074dbc011ae05b3cbd320a6f</td>\n",
              "      <td>LIMA</td>\n",
              "      <td>LIMA</td>\n",
              "      <td>CHORRILLOS</td>\n",
              "      <td>PR</td>\n",
              "      <td>36.0</td>\n",
              "      <td>MASCULINO</td>\n",
              "      <td>20200330.0</td>\n",
              "    </tr>\n",
              "    <tr>\n",
              "      <th>5</th>\n",
              "      <td>20210703</td>\n",
              "      <td>f016889b9ba5bd95cf15d60205cbd82e</td>\n",
              "      <td>LIMA</td>\n",
              "      <td>LIMA</td>\n",
              "      <td>LIMA</td>\n",
              "      <td>PR</td>\n",
              "      <td>44.0</td>\n",
              "      <td>MASCULINO</td>\n",
              "      <td>20200330.0</td>\n",
              "    </tr>\n",
              "    <tr>\n",
              "      <th>8</th>\n",
              "      <td>20210703</td>\n",
              "      <td>0e2a1928ddd07d99978758e86b034131</td>\n",
              "      <td>LIMA REGION</td>\n",
              "      <td>EN INVESTIGACIÓN</td>\n",
              "      <td>EN INVESTIGACIÓN</td>\n",
              "      <td>PR</td>\n",
              "      <td>41.0</td>\n",
              "      <td>MASCULINO</td>\n",
              "      <td>20200330.0</td>\n",
              "    </tr>\n",
              "    <tr>\n",
              "      <th>9</th>\n",
              "      <td>20210703</td>\n",
              "      <td>1caabc6f4c64b5910bd8254fa0f949ce</td>\n",
              "      <td>LIMA</td>\n",
              "      <td>LIMA</td>\n",
              "      <td>EL AGUSTINO</td>\n",
              "      <td>PR</td>\n",
              "      <td>40.0</td>\n",
              "      <td>MASCULINO</td>\n",
              "      <td>20200330.0</td>\n",
              "    </tr>\n",
              "    <tr>\n",
              "      <th>11</th>\n",
              "      <td>20210703</td>\n",
              "      <td>f74516c2e8afe2e388cdfa52594ca85c</td>\n",
              "      <td>LIMA</td>\n",
              "      <td>LIMA</td>\n",
              "      <td>LOS OLIVOS</td>\n",
              "      <td>PR</td>\n",
              "      <td>54.0</td>\n",
              "      <td>MASCULINO</td>\n",
              "      <td>20200330.0</td>\n",
              "    </tr>\n",
              "    <tr>\n",
              "      <th>...</th>\n",
              "      <td>...</td>\n",
              "      <td>...</td>\n",
              "      <td>...</td>\n",
              "      <td>...</td>\n",
              "      <td>...</td>\n",
              "      <td>...</td>\n",
              "      <td>...</td>\n",
              "      <td>...</td>\n",
              "      <td>...</td>\n",
              "    </tr>\n",
              "    <tr>\n",
              "      <th>2065102</th>\n",
              "      <td>20210703</td>\n",
              "      <td>652c6364ea71a407c958d664fcb78e51</td>\n",
              "      <td>UCAYALI</td>\n",
              "      <td>CORONEL PORTILLO</td>\n",
              "      <td>CALLERIA</td>\n",
              "      <td>PCR</td>\n",
              "      <td>19.0</td>\n",
              "      <td>MASCULINO</td>\n",
              "      <td>20210529.0</td>\n",
              "    </tr>\n",
              "    <tr>\n",
              "      <th>2065108</th>\n",
              "      <td>20210703</td>\n",
              "      <td>0295e3f769c42a483a4567aa384dd18c</td>\n",
              "      <td>LIMA</td>\n",
              "      <td>LIMA</td>\n",
              "      <td>LIMA</td>\n",
              "      <td>PCR</td>\n",
              "      <td>67.0</td>\n",
              "      <td>MASCULINO</td>\n",
              "      <td>20210529.0</td>\n",
              "    </tr>\n",
              "    <tr>\n",
              "      <th>2065109</th>\n",
              "      <td>20210703</td>\n",
              "      <td>a7d0f2742d66fa2653d2542ec53b5adc</td>\n",
              "      <td>AREQUIPA</td>\n",
              "      <td>AREQUIPA</td>\n",
              "      <td>CAYMA</td>\n",
              "      <td>PCR</td>\n",
              "      <td>48.0</td>\n",
              "      <td>MASCULINO</td>\n",
              "      <td>20210529.0</td>\n",
              "    </tr>\n",
              "    <tr>\n",
              "      <th>2065110</th>\n",
              "      <td>20210703</td>\n",
              "      <td>efaf0e5497b15883203fb4214c0ccf1b</td>\n",
              "      <td>LAMBAYEQUE</td>\n",
              "      <td>CHICLAYO</td>\n",
              "      <td>CHICLAYO</td>\n",
              "      <td>PCR</td>\n",
              "      <td>58.0</td>\n",
              "      <td>MASCULINO</td>\n",
              "      <td>20210529.0</td>\n",
              "    </tr>\n",
              "    <tr>\n",
              "      <th>2065111</th>\n",
              "      <td>20210703</td>\n",
              "      <td>dac870c3531fdeaf891db7c8c88527f8</td>\n",
              "      <td>LA LIBERTAD</td>\n",
              "      <td>TRUJILLO</td>\n",
              "      <td>TRUJILLO</td>\n",
              "      <td>PCR</td>\n",
              "      <td>46.0</td>\n",
              "      <td>MASCULINO</td>\n",
              "      <td>20210528.0</td>\n",
              "    </tr>\n",
              "  </tbody>\n",
              "</table>\n",
              "<p>1059060 rows × 9 columns</p>\n",
              "</div>"
            ],
            "text/plain": [
              "         FECHA_CORTE  ... FECHA_RESULTADO\n",
              "1           20210703  ...      20200330.0\n",
              "5           20210703  ...      20200330.0\n",
              "8           20210703  ...      20200330.0\n",
              "9           20210703  ...      20200330.0\n",
              "11          20210703  ...      20200330.0\n",
              "...              ...  ...             ...\n",
              "2065102     20210703  ...      20210529.0\n",
              "2065108     20210703  ...      20210529.0\n",
              "2065109     20210703  ...      20210529.0\n",
              "2065110     20210703  ...      20210529.0\n",
              "2065111     20210703  ...      20210528.0\n",
              "\n",
              "[1059060 rows x 9 columns]"
            ]
          },
          "metadata": {},
          "execution_count": 34
        }
      ]
    },
    {
      "cell_type": "markdown",
      "metadata": {
        "id": "xxBli8Dve2XE"
      },
      "source": [
        "Probemos con otra condición.\n",
        "\n",
        "Ejercicio1: Traer todos los casos de la segunda mitad del año..."
      ]
    },
    {
      "cell_type": "code",
      "metadata": {
        "id": "gKQk8bhXfepa"
      },
      "source": [
        "# Solución\n",
        "df_sem2 = df_casospositivos[df_casospositivos['FECHA_RESULTADO'] > 20200601]"
      ],
      "execution_count": null,
      "outputs": []
    },
    {
      "cell_type": "markdown",
      "metadata": {
        "id": "PQYnipbWe2XF"
      },
      "source": [
        "Ejercicio 2: Volviendo al DataFrame del Titanic ¿Cuántos pasajeros sobrevivieron y cuántos no? ¿Cuántos pagaron una tarifa menor a 25?"
      ]
    },
    {
      "cell_type": "code",
      "metadata": {
        "id": "UkxehaC2e2XF"
      },
      "source": [
        "df_titanic = pd.read_csv('https://datasets-humai.s3.amazonaws.com/datasets/titanic.csv',sep='|')"
      ],
      "execution_count": null,
      "outputs": []
    },
    {
      "cell_type": "code",
      "metadata": {
        "id": "29gJmDiwe2XF",
        "colab": {
          "base_uri": "https://localhost:8080/"
        },
        "outputId": "a4f424b4-4081-491a-c226-448972bb807d"
      },
      "source": [
        "#Solución\n",
        "df_titanic[df_titanic['Survived']==1].shape"
      ],
      "execution_count": null,
      "outputs": [
        {
          "output_type": "execute_result",
          "data": {
            "text/plain": [
              "(342, 12)"
            ]
          },
          "metadata": {},
          "execution_count": 40
        }
      ]
    },
    {
      "cell_type": "code",
      "metadata": {
        "id": "2JDqUZNoe2XF",
        "colab": {
          "base_uri": "https://localhost:8080/"
        },
        "outputId": "4f99aab3-7bf4-4d69-f37b-2c5360d16f63"
      },
      "source": [
        "df_titanic[df_titanic['Survived']==0].shape"
      ],
      "execution_count": null,
      "outputs": [
        {
          "output_type": "execute_result",
          "data": {
            "text/plain": [
              "(549, 12)"
            ]
          },
          "metadata": {},
          "execution_count": 41
        }
      ]
    },
    {
      "cell_type": "code",
      "metadata": {
        "id": "YCWgnvEQe2XF",
        "colab": {
          "base_uri": "https://localhost:8080/"
        },
        "outputId": "d8b8353b-33af-4f3b-c22b-a180ad0fcdd2"
      },
      "source": [
        "df_titanic[df_titanic['Fare'] < 25].shape"
      ],
      "execution_count": null,
      "outputs": [
        {
          "output_type": "execute_result",
          "data": {
            "text/plain": [
              "(557, 12)"
            ]
          },
          "metadata": {},
          "execution_count": 42
        }
      ]
    },
    {
      "cell_type": "markdown",
      "metadata": {
        "id": "syyeFjcqe2XF"
      },
      "source": [
        "#### Máscara booleana con muchas condiciones\n",
        "\n",
        "Ahora tratemos de filtrar el dataset por dos condiciones: por ejemplo tomar los sueldos de abril de la secretaria de innovación.\n",
        "Para eso tenemos que combinar dos máscaras booleanas con una condición.\n",
        "\n",
        "| S | Descripcion        | S  | Descripcion |   |\n",
        "|---|--------------------|----|-------------|---|\n",
        "| & | AND (y)            | \\| | OR (o)      |   |\n",
        "| ^ | XOR (o exclusivo)  | ~  | NOT (no)    |   |\n",
        "\n",
        "\n",
        "\n",
        "\n"
      ]
    },
    {
      "cell_type": "code",
      "metadata": {
        "colab": {
          "base_uri": "https://localhost:8080/"
        },
        "id": "qP0p9LR5hAov",
        "outputId": "50291c4d-b556-4aac-beac-f0353cf63042"
      },
      "source": [
        "df_casospositivos.columns"
      ],
      "execution_count": null,
      "outputs": [
        {
          "output_type": "execute_result",
          "data": {
            "text/plain": [
              "Index(['FECHA_CORTE', 'UUID', 'DEPARTAMENTO', 'PROVINCIA', 'DISTRITO',\n",
              "       'METODODX', 'EDAD', 'SEXO', 'FECHA_RESULTADO'],\n",
              "      dtype='object')"
            ]
          },
          "metadata": {},
          "execution_count": 43
        }
      ]
    },
    {
      "cell_type": "code",
      "metadata": {
        "id": "N0fcKEhXe2XG",
        "colab": {
          "base_uri": "https://localhost:8080/",
          "height": 422
        },
        "outputId": "023fd66c-fc2d-42da-a8f6-ad7125913ac6"
      },
      "source": [
        "df_casospositivos[(df_casospositivos['SEXO']=='MASCULINO') & (df_casospositivos['EDAD'] > 25)]"
      ],
      "execution_count": null,
      "outputs": [
        {
          "output_type": "execute_result",
          "data": {
            "text/html": [
              "<div>\n",
              "<style scoped>\n",
              "    .dataframe tbody tr th:only-of-type {\n",
              "        vertical-align: middle;\n",
              "    }\n",
              "\n",
              "    .dataframe tbody tr th {\n",
              "        vertical-align: top;\n",
              "    }\n",
              "\n",
              "    .dataframe thead th {\n",
              "        text-align: right;\n",
              "    }\n",
              "</style>\n",
              "<table border=\"1\" class=\"dataframe\">\n",
              "  <thead>\n",
              "    <tr style=\"text-align: right;\">\n",
              "      <th></th>\n",
              "      <th>FECHA_CORTE</th>\n",
              "      <th>UUID</th>\n",
              "      <th>DEPARTAMENTO</th>\n",
              "      <th>PROVINCIA</th>\n",
              "      <th>DISTRITO</th>\n",
              "      <th>METODODX</th>\n",
              "      <th>EDAD</th>\n",
              "      <th>SEXO</th>\n",
              "      <th>FECHA_RESULTADO</th>\n",
              "    </tr>\n",
              "  </thead>\n",
              "  <tbody>\n",
              "    <tr>\n",
              "      <th>1</th>\n",
              "      <td>20210703</td>\n",
              "      <td>cecdbf10074dbc011ae05b3cbd320a6f</td>\n",
              "      <td>LIMA</td>\n",
              "      <td>LIMA</td>\n",
              "      <td>CHORRILLOS</td>\n",
              "      <td>PR</td>\n",
              "      <td>36.0</td>\n",
              "      <td>MASCULINO</td>\n",
              "      <td>20200330.0</td>\n",
              "    </tr>\n",
              "    <tr>\n",
              "      <th>5</th>\n",
              "      <td>20210703</td>\n",
              "      <td>f016889b9ba5bd95cf15d60205cbd82e</td>\n",
              "      <td>LIMA</td>\n",
              "      <td>LIMA</td>\n",
              "      <td>LIMA</td>\n",
              "      <td>PR</td>\n",
              "      <td>44.0</td>\n",
              "      <td>MASCULINO</td>\n",
              "      <td>20200330.0</td>\n",
              "    </tr>\n",
              "    <tr>\n",
              "      <th>8</th>\n",
              "      <td>20210703</td>\n",
              "      <td>0e2a1928ddd07d99978758e86b034131</td>\n",
              "      <td>LIMA REGION</td>\n",
              "      <td>EN INVESTIGACIÓN</td>\n",
              "      <td>EN INVESTIGACIÓN</td>\n",
              "      <td>PR</td>\n",
              "      <td>41.0</td>\n",
              "      <td>MASCULINO</td>\n",
              "      <td>20200330.0</td>\n",
              "    </tr>\n",
              "    <tr>\n",
              "      <th>9</th>\n",
              "      <td>20210703</td>\n",
              "      <td>1caabc6f4c64b5910bd8254fa0f949ce</td>\n",
              "      <td>LIMA</td>\n",
              "      <td>LIMA</td>\n",
              "      <td>EL AGUSTINO</td>\n",
              "      <td>PR</td>\n",
              "      <td>40.0</td>\n",
              "      <td>MASCULINO</td>\n",
              "      <td>20200330.0</td>\n",
              "    </tr>\n",
              "    <tr>\n",
              "      <th>11</th>\n",
              "      <td>20210703</td>\n",
              "      <td>f74516c2e8afe2e388cdfa52594ca85c</td>\n",
              "      <td>LIMA</td>\n",
              "      <td>LIMA</td>\n",
              "      <td>LOS OLIVOS</td>\n",
              "      <td>PR</td>\n",
              "      <td>54.0</td>\n",
              "      <td>MASCULINO</td>\n",
              "      <td>20200330.0</td>\n",
              "    </tr>\n",
              "    <tr>\n",
              "      <th>...</th>\n",
              "      <td>...</td>\n",
              "      <td>...</td>\n",
              "      <td>...</td>\n",
              "      <td>...</td>\n",
              "      <td>...</td>\n",
              "      <td>...</td>\n",
              "      <td>...</td>\n",
              "      <td>...</td>\n",
              "      <td>...</td>\n",
              "    </tr>\n",
              "    <tr>\n",
              "      <th>2065101</th>\n",
              "      <td>20210703</td>\n",
              "      <td>6f7e482a9021e149d13577e9062fb96b</td>\n",
              "      <td>TACNA</td>\n",
              "      <td>TACNA</td>\n",
              "      <td>ALTO DE LA ALIANZA</td>\n",
              "      <td>PCR</td>\n",
              "      <td>49.0</td>\n",
              "      <td>MASCULINO</td>\n",
              "      <td>20210528.0</td>\n",
              "    </tr>\n",
              "    <tr>\n",
              "      <th>2065108</th>\n",
              "      <td>20210703</td>\n",
              "      <td>0295e3f769c42a483a4567aa384dd18c</td>\n",
              "      <td>LIMA</td>\n",
              "      <td>LIMA</td>\n",
              "      <td>LIMA</td>\n",
              "      <td>PCR</td>\n",
              "      <td>67.0</td>\n",
              "      <td>MASCULINO</td>\n",
              "      <td>20210529.0</td>\n",
              "    </tr>\n",
              "    <tr>\n",
              "      <th>2065109</th>\n",
              "      <td>20210703</td>\n",
              "      <td>a7d0f2742d66fa2653d2542ec53b5adc</td>\n",
              "      <td>AREQUIPA</td>\n",
              "      <td>AREQUIPA</td>\n",
              "      <td>CAYMA</td>\n",
              "      <td>PCR</td>\n",
              "      <td>48.0</td>\n",
              "      <td>MASCULINO</td>\n",
              "      <td>20210529.0</td>\n",
              "    </tr>\n",
              "    <tr>\n",
              "      <th>2065110</th>\n",
              "      <td>20210703</td>\n",
              "      <td>efaf0e5497b15883203fb4214c0ccf1b</td>\n",
              "      <td>LAMBAYEQUE</td>\n",
              "      <td>CHICLAYO</td>\n",
              "      <td>CHICLAYO</td>\n",
              "      <td>PCR</td>\n",
              "      <td>58.0</td>\n",
              "      <td>MASCULINO</td>\n",
              "      <td>20210529.0</td>\n",
              "    </tr>\n",
              "    <tr>\n",
              "      <th>2065111</th>\n",
              "      <td>20210703</td>\n",
              "      <td>dac870c3531fdeaf891db7c8c88527f8</td>\n",
              "      <td>LA LIBERTAD</td>\n",
              "      <td>TRUJILLO</td>\n",
              "      <td>TRUJILLO</td>\n",
              "      <td>PCR</td>\n",
              "      <td>46.0</td>\n",
              "      <td>MASCULINO</td>\n",
              "      <td>20210528.0</td>\n",
              "    </tr>\n",
              "  </tbody>\n",
              "</table>\n",
              "<p>888544 rows × 9 columns</p>\n",
              "</div>"
            ],
            "text/plain": [
              "         FECHA_CORTE  ... FECHA_RESULTADO\n",
              "1           20210703  ...      20200330.0\n",
              "5           20210703  ...      20200330.0\n",
              "8           20210703  ...      20200330.0\n",
              "9           20210703  ...      20200330.0\n",
              "11          20210703  ...      20200330.0\n",
              "...              ...  ...             ...\n",
              "2065101     20210703  ...      20210528.0\n",
              "2065108     20210703  ...      20210529.0\n",
              "2065109     20210703  ...      20210529.0\n",
              "2065110     20210703  ...      20210529.0\n",
              "2065111     20210703  ...      20210528.0\n",
              "\n",
              "[888544 rows x 9 columns]"
            ]
          },
          "metadata": {},
          "execution_count": 44
        }
      ]
    },
    {
      "cell_type": "markdown",
      "metadata": {
        "id": "fblj3ZoNe2XG"
      },
      "source": [
        "Ahora veamos otro ejemplo"
      ]
    },
    {
      "cell_type": "code",
      "metadata": {
        "id": "6FsdGD21e2XG",
        "colab": {
          "base_uri": "https://localhost:8080/",
          "height": 422
        },
        "outputId": "7198be0d-7e77-4d08-b45f-071536dcdb18"
      },
      "source": [
        "df_casospositivos[(df_casospositivos['SEXO']=='MASCULINO') & (df_casospositivos['DEPARTAMENTO'] == 'LIMA')]"
      ],
      "execution_count": null,
      "outputs": [
        {
          "output_type": "execute_result",
          "data": {
            "text/html": [
              "<div>\n",
              "<style scoped>\n",
              "    .dataframe tbody tr th:only-of-type {\n",
              "        vertical-align: middle;\n",
              "    }\n",
              "\n",
              "    .dataframe tbody tr th {\n",
              "        vertical-align: top;\n",
              "    }\n",
              "\n",
              "    .dataframe thead th {\n",
              "        text-align: right;\n",
              "    }\n",
              "</style>\n",
              "<table border=\"1\" class=\"dataframe\">\n",
              "  <thead>\n",
              "    <tr style=\"text-align: right;\">\n",
              "      <th></th>\n",
              "      <th>FECHA_CORTE</th>\n",
              "      <th>UUID</th>\n",
              "      <th>DEPARTAMENTO</th>\n",
              "      <th>PROVINCIA</th>\n",
              "      <th>DISTRITO</th>\n",
              "      <th>METODODX</th>\n",
              "      <th>EDAD</th>\n",
              "      <th>SEXO</th>\n",
              "      <th>FECHA_RESULTADO</th>\n",
              "    </tr>\n",
              "  </thead>\n",
              "  <tbody>\n",
              "    <tr>\n",
              "      <th>1</th>\n",
              "      <td>20210703</td>\n",
              "      <td>cecdbf10074dbc011ae05b3cbd320a6f</td>\n",
              "      <td>LIMA</td>\n",
              "      <td>LIMA</td>\n",
              "      <td>CHORRILLOS</td>\n",
              "      <td>PR</td>\n",
              "      <td>36.0</td>\n",
              "      <td>MASCULINO</td>\n",
              "      <td>20200330.0</td>\n",
              "    </tr>\n",
              "    <tr>\n",
              "      <th>5</th>\n",
              "      <td>20210703</td>\n",
              "      <td>f016889b9ba5bd95cf15d60205cbd82e</td>\n",
              "      <td>LIMA</td>\n",
              "      <td>LIMA</td>\n",
              "      <td>LIMA</td>\n",
              "      <td>PR</td>\n",
              "      <td>44.0</td>\n",
              "      <td>MASCULINO</td>\n",
              "      <td>20200330.0</td>\n",
              "    </tr>\n",
              "    <tr>\n",
              "      <th>9</th>\n",
              "      <td>20210703</td>\n",
              "      <td>1caabc6f4c64b5910bd8254fa0f949ce</td>\n",
              "      <td>LIMA</td>\n",
              "      <td>LIMA</td>\n",
              "      <td>EL AGUSTINO</td>\n",
              "      <td>PR</td>\n",
              "      <td>40.0</td>\n",
              "      <td>MASCULINO</td>\n",
              "      <td>20200330.0</td>\n",
              "    </tr>\n",
              "    <tr>\n",
              "      <th>11</th>\n",
              "      <td>20210703</td>\n",
              "      <td>f74516c2e8afe2e388cdfa52594ca85c</td>\n",
              "      <td>LIMA</td>\n",
              "      <td>LIMA</td>\n",
              "      <td>LOS OLIVOS</td>\n",
              "      <td>PR</td>\n",
              "      <td>54.0</td>\n",
              "      <td>MASCULINO</td>\n",
              "      <td>20200330.0</td>\n",
              "    </tr>\n",
              "    <tr>\n",
              "      <th>12</th>\n",
              "      <td>20210703</td>\n",
              "      <td>fcdc23719caee45f2e05826e52b823ed</td>\n",
              "      <td>LIMA</td>\n",
              "      <td>LIMA</td>\n",
              "      <td>SAN MARTIN DE PORRES</td>\n",
              "      <td>PR</td>\n",
              "      <td>47.0</td>\n",
              "      <td>MASCULINO</td>\n",
              "      <td>20200330.0</td>\n",
              "    </tr>\n",
              "    <tr>\n",
              "      <th>...</th>\n",
              "      <td>...</td>\n",
              "      <td>...</td>\n",
              "      <td>...</td>\n",
              "      <td>...</td>\n",
              "      <td>...</td>\n",
              "      <td>...</td>\n",
              "      <td>...</td>\n",
              "      <td>...</td>\n",
              "      <td>...</td>\n",
              "    </tr>\n",
              "    <tr>\n",
              "      <th>2065070</th>\n",
              "      <td>20210703</td>\n",
              "      <td>2709515ed8e24cc3f1132d9c6393d02c</td>\n",
              "      <td>LIMA</td>\n",
              "      <td>LIMA</td>\n",
              "      <td>VILLA MARIA DEL TRIUNFO</td>\n",
              "      <td>PCR</td>\n",
              "      <td>28.0</td>\n",
              "      <td>MASCULINO</td>\n",
              "      <td>20210529.0</td>\n",
              "    </tr>\n",
              "    <tr>\n",
              "      <th>2065083</th>\n",
              "      <td>20210703</td>\n",
              "      <td>79c5cfc22aefaf5558df00995cdb3686</td>\n",
              "      <td>LIMA</td>\n",
              "      <td>LIMA</td>\n",
              "      <td>SAN JUAN DE LURIGANCHO</td>\n",
              "      <td>PCR</td>\n",
              "      <td>56.0</td>\n",
              "      <td>MASCULINO</td>\n",
              "      <td>20210529.0</td>\n",
              "    </tr>\n",
              "    <tr>\n",
              "      <th>2065084</th>\n",
              "      <td>20210703</td>\n",
              "      <td>49aa01d8aef19116d011ebf7c64cea1f</td>\n",
              "      <td>LIMA</td>\n",
              "      <td>LIMA</td>\n",
              "      <td>SAN JUAN DE MIRAFLORES</td>\n",
              "      <td>PCR</td>\n",
              "      <td>51.0</td>\n",
              "      <td>MASCULINO</td>\n",
              "      <td>20210529.0</td>\n",
              "    </tr>\n",
              "    <tr>\n",
              "      <th>2065088</th>\n",
              "      <td>20210703</td>\n",
              "      <td>4daa69a7548b0b08693434ed79f1776b</td>\n",
              "      <td>LIMA</td>\n",
              "      <td>EN INVESTIGACIÓN</td>\n",
              "      <td>EN INVESTIGACIÓN</td>\n",
              "      <td>PCR</td>\n",
              "      <td>25.0</td>\n",
              "      <td>MASCULINO</td>\n",
              "      <td>20210529.0</td>\n",
              "    </tr>\n",
              "    <tr>\n",
              "      <th>2065108</th>\n",
              "      <td>20210703</td>\n",
              "      <td>0295e3f769c42a483a4567aa384dd18c</td>\n",
              "      <td>LIMA</td>\n",
              "      <td>LIMA</td>\n",
              "      <td>LIMA</td>\n",
              "      <td>PCR</td>\n",
              "      <td>67.0</td>\n",
              "      <td>MASCULINO</td>\n",
              "      <td>20210529.0</td>\n",
              "    </tr>\n",
              "  </tbody>\n",
              "</table>\n",
              "<p>448568 rows × 9 columns</p>\n",
              "</div>"
            ],
            "text/plain": [
              "         FECHA_CORTE  ... FECHA_RESULTADO\n",
              "1           20210703  ...      20200330.0\n",
              "5           20210703  ...      20200330.0\n",
              "9           20210703  ...      20200330.0\n",
              "11          20210703  ...      20200330.0\n",
              "12          20210703  ...      20200330.0\n",
              "...              ...  ...             ...\n",
              "2065070     20210703  ...      20210529.0\n",
              "2065083     20210703  ...      20210529.0\n",
              "2065084     20210703  ...      20210529.0\n",
              "2065088     20210703  ...      20210529.0\n",
              "2065108     20210703  ...      20210529.0\n",
              "\n",
              "[448568 rows x 9 columns]"
            ]
          },
          "metadata": {},
          "execution_count": 45
        }
      ]
    },
    {
      "cell_type": "markdown",
      "metadata": {
        "id": "s9alW56ke2XI"
      },
      "source": [
        "### Fancy Indexing\n",
        "\n",
        "Ahora vamos a quedarnos con un subconjunto de columnas del DataFrame."
      ]
    },
    {
      "cell_type": "code",
      "metadata": {
        "id": "4i7xAFeDe2XI"
      },
      "source": [
        "df_view = df_casospositivos.loc[:,['SEXO','DEPARTAMENTO']]"
      ],
      "execution_count": null,
      "outputs": []
    },
    {
      "cell_type": "code",
      "metadata": {
        "colab": {
          "base_uri": "https://localhost:8080/",
          "height": 422
        },
        "id": "golpn0SuFjg3",
        "outputId": "c1979d46-9cca-4992-e56c-a28abb4f9bf1"
      },
      "source": [
        "df_view"
      ],
      "execution_count": null,
      "outputs": [
        {
          "output_type": "execute_result",
          "data": {
            "text/html": [
              "<div>\n",
              "<style scoped>\n",
              "    .dataframe tbody tr th:only-of-type {\n",
              "        vertical-align: middle;\n",
              "    }\n",
              "\n",
              "    .dataframe tbody tr th {\n",
              "        vertical-align: top;\n",
              "    }\n",
              "\n",
              "    .dataframe thead th {\n",
              "        text-align: right;\n",
              "    }\n",
              "</style>\n",
              "<table border=\"1\" class=\"dataframe\">\n",
              "  <thead>\n",
              "    <tr style=\"text-align: right;\">\n",
              "      <th></th>\n",
              "      <th>SEXO</th>\n",
              "      <th>DEPARTAMENTO</th>\n",
              "    </tr>\n",
              "  </thead>\n",
              "  <tbody>\n",
              "    <tr>\n",
              "      <th>0</th>\n",
              "      <td>FEMENINO</td>\n",
              "      <td>LAMBAYEQUE</td>\n",
              "    </tr>\n",
              "    <tr>\n",
              "      <th>1</th>\n",
              "      <td>MASCULINO</td>\n",
              "      <td>LIMA</td>\n",
              "    </tr>\n",
              "    <tr>\n",
              "      <th>2</th>\n",
              "      <td>FEMENINO</td>\n",
              "      <td>LIMA</td>\n",
              "    </tr>\n",
              "    <tr>\n",
              "      <th>3</th>\n",
              "      <td>FEMENINO</td>\n",
              "      <td>LIMA</td>\n",
              "    </tr>\n",
              "    <tr>\n",
              "      <th>4</th>\n",
              "      <td>FEMENINO</td>\n",
              "      <td>LIMA</td>\n",
              "    </tr>\n",
              "    <tr>\n",
              "      <th>...</th>\n",
              "      <td>...</td>\n",
              "      <td>...</td>\n",
              "    </tr>\n",
              "    <tr>\n",
              "      <th>2065108</th>\n",
              "      <td>MASCULINO</td>\n",
              "      <td>LIMA</td>\n",
              "    </tr>\n",
              "    <tr>\n",
              "      <th>2065109</th>\n",
              "      <td>MASCULINO</td>\n",
              "      <td>AREQUIPA</td>\n",
              "    </tr>\n",
              "    <tr>\n",
              "      <th>2065110</th>\n",
              "      <td>MASCULINO</td>\n",
              "      <td>LAMBAYEQUE</td>\n",
              "    </tr>\n",
              "    <tr>\n",
              "      <th>2065111</th>\n",
              "      <td>MASCULINO</td>\n",
              "      <td>LA LIBERTAD</td>\n",
              "    </tr>\n",
              "    <tr>\n",
              "      <th>2065112</th>\n",
              "      <td>FEMENINO</td>\n",
              "      <td>LIMA</td>\n",
              "    </tr>\n",
              "  </tbody>\n",
              "</table>\n",
              "<p>2065113 rows × 2 columns</p>\n",
              "</div>"
            ],
            "text/plain": [
              "              SEXO DEPARTAMENTO\n",
              "0         FEMENINO   LAMBAYEQUE\n",
              "1        MASCULINO         LIMA\n",
              "2         FEMENINO         LIMA\n",
              "3         FEMENINO         LIMA\n",
              "4         FEMENINO         LIMA\n",
              "...            ...          ...\n",
              "2065108  MASCULINO         LIMA\n",
              "2065109  MASCULINO     AREQUIPA\n",
              "2065110  MASCULINO   LAMBAYEQUE\n",
              "2065111  MASCULINO  LA LIBERTAD\n",
              "2065112   FEMENINO         LIMA\n",
              "\n",
              "[2065113 rows x 2 columns]"
            ]
          },
          "metadata": {},
          "execution_count": 47
        }
      ]
    },
    {
      "cell_type": "code",
      "metadata": {
        "colab": {
          "base_uri": "https://localhost:8080/"
        },
        "id": "eheq-Vhbe2XI",
        "outputId": "e3590a00-9984-4a2a-ab31-477279bc8ba9"
      },
      "source": [
        "df_view.shape"
      ],
      "execution_count": null,
      "outputs": [
        {
          "output_type": "execute_result",
          "data": {
            "text/plain": [
              "(2065113, 2)"
            ]
          },
          "metadata": {},
          "execution_count": 48
        }
      ]
    },
    {
      "cell_type": "markdown",
      "metadata": {
        "id": "CD0LVQhOe2XI"
      },
      "source": [
        "Existe una forma menos explícita de hacer esta misma operación. Si pasamos una lista al indexing, pandas asume que el tipo de indexing es loc y que el filtro es sobre las columnas y no las filas:"
      ]
    },
    {
      "cell_type": "code",
      "metadata": {
        "id": "HDTm1jU9e2XJ"
      },
      "source": [
        "df_view = df_casospositivos[['SEXO','DEPARTAMENTO']]"
      ],
      "execution_count": null,
      "outputs": []
    },
    {
      "cell_type": "code",
      "metadata": {
        "colab": {
          "base_uri": "https://localhost:8080/"
        },
        "id": "F8tXKxuXe2XJ",
        "outputId": "6733bd0c-dd39-4564-9aff-526234ad6643"
      },
      "source": [
        "df_view.shape"
      ],
      "execution_count": null,
      "outputs": [
        {
          "output_type": "execute_result",
          "data": {
            "text/plain": [
              "(2065113, 2)"
            ]
          },
          "metadata": {},
          "execution_count": 50
        }
      ]
    },
    {
      "cell_type": "markdown",
      "metadata": {
        "id": "VHlCLy9Qe2XJ"
      },
      "source": [
        "Fíjense lo que pasa si tratamos de acceder a filas utilizando una lista de nombres, en este caso [0,1]."
      ]
    },
    {
      "cell_type": "code",
      "metadata": {
        "colab": {
          "base_uri": "https://localhost:8080/",
          "height": 340
        },
        "id": "q2xSbnrue2XJ",
        "outputId": "e81ada37-a697-4921-e539-37ae32416d49"
      },
      "source": [
        "# Incorrecto\n",
        "df_view = df[[3,8]]"
      ],
      "execution_count": null,
      "outputs": [
        {
          "output_type": "error",
          "ename": "KeyError",
          "evalue": "ignored",
          "traceback": [
            "\u001b[0;31m---------------------------------------------------------------------------\u001b[0m",
            "\u001b[0;31mKeyError\u001b[0m                                  Traceback (most recent call last)",
            "\u001b[0;32m<ipython-input-51-356438c29bef>\u001b[0m in \u001b[0;36m<module>\u001b[0;34m()\u001b[0m\n\u001b[1;32m      1\u001b[0m \u001b[0;31m# Incorrecto\u001b[0m\u001b[0;34m\u001b[0m\u001b[0;34m\u001b[0m\u001b[0;34m\u001b[0m\u001b[0m\n\u001b[0;32m----> 2\u001b[0;31m \u001b[0mdf_view\u001b[0m \u001b[0;34m=\u001b[0m \u001b[0mdf\u001b[0m\u001b[0;34m[\u001b[0m\u001b[0;34m[\u001b[0m\u001b[0;36m3\u001b[0m\u001b[0;34m,\u001b[0m\u001b[0;36m8\u001b[0m\u001b[0;34m]\u001b[0m\u001b[0;34m]\u001b[0m\u001b[0;34m\u001b[0m\u001b[0;34m\u001b[0m\u001b[0m\n\u001b[0m",
            "\u001b[0;32m/usr/local/lib/python3.7/dist-packages/pandas/core/frame.py\u001b[0m in \u001b[0;36m__getitem__\u001b[0;34m(self, key)\u001b[0m\n\u001b[1;32m   2910\u001b[0m             \u001b[0;32mif\u001b[0m \u001b[0mis_iterator\u001b[0m\u001b[0;34m(\u001b[0m\u001b[0mkey\u001b[0m\u001b[0;34m)\u001b[0m\u001b[0;34m:\u001b[0m\u001b[0;34m\u001b[0m\u001b[0;34m\u001b[0m\u001b[0m\n\u001b[1;32m   2911\u001b[0m                 \u001b[0mkey\u001b[0m \u001b[0;34m=\u001b[0m \u001b[0mlist\u001b[0m\u001b[0;34m(\u001b[0m\u001b[0mkey\u001b[0m\u001b[0;34m)\u001b[0m\u001b[0;34m\u001b[0m\u001b[0;34m\u001b[0m\u001b[0m\n\u001b[0;32m-> 2912\u001b[0;31m             \u001b[0mindexer\u001b[0m \u001b[0;34m=\u001b[0m \u001b[0mself\u001b[0m\u001b[0;34m.\u001b[0m\u001b[0mloc\u001b[0m\u001b[0;34m.\u001b[0m\u001b[0m_get_listlike_indexer\u001b[0m\u001b[0;34m(\u001b[0m\u001b[0mkey\u001b[0m\u001b[0;34m,\u001b[0m \u001b[0maxis\u001b[0m\u001b[0;34m=\u001b[0m\u001b[0;36m1\u001b[0m\u001b[0;34m,\u001b[0m \u001b[0mraise_missing\u001b[0m\u001b[0;34m=\u001b[0m\u001b[0;32mTrue\u001b[0m\u001b[0;34m)\u001b[0m\u001b[0;34m[\u001b[0m\u001b[0;36m1\u001b[0m\u001b[0;34m]\u001b[0m\u001b[0;34m\u001b[0m\u001b[0;34m\u001b[0m\u001b[0m\n\u001b[0m\u001b[1;32m   2913\u001b[0m \u001b[0;34m\u001b[0m\u001b[0m\n\u001b[1;32m   2914\u001b[0m         \u001b[0;31m# take() does not accept boolean indexers\u001b[0m\u001b[0;34m\u001b[0m\u001b[0;34m\u001b[0m\u001b[0;34m\u001b[0m\u001b[0m\n",
            "\u001b[0;32m/usr/local/lib/python3.7/dist-packages/pandas/core/indexing.py\u001b[0m in \u001b[0;36m_get_listlike_indexer\u001b[0;34m(self, key, axis, raise_missing)\u001b[0m\n\u001b[1;32m   1252\u001b[0m             \u001b[0mkeyarr\u001b[0m\u001b[0;34m,\u001b[0m \u001b[0mindexer\u001b[0m\u001b[0;34m,\u001b[0m \u001b[0mnew_indexer\u001b[0m \u001b[0;34m=\u001b[0m \u001b[0max\u001b[0m\u001b[0;34m.\u001b[0m\u001b[0m_reindex_non_unique\u001b[0m\u001b[0;34m(\u001b[0m\u001b[0mkeyarr\u001b[0m\u001b[0;34m)\u001b[0m\u001b[0;34m\u001b[0m\u001b[0;34m\u001b[0m\u001b[0m\n\u001b[1;32m   1253\u001b[0m \u001b[0;34m\u001b[0m\u001b[0m\n\u001b[0;32m-> 1254\u001b[0;31m         \u001b[0mself\u001b[0m\u001b[0;34m.\u001b[0m\u001b[0m_validate_read_indexer\u001b[0m\u001b[0;34m(\u001b[0m\u001b[0mkeyarr\u001b[0m\u001b[0;34m,\u001b[0m \u001b[0mindexer\u001b[0m\u001b[0;34m,\u001b[0m \u001b[0maxis\u001b[0m\u001b[0;34m,\u001b[0m \u001b[0mraise_missing\u001b[0m\u001b[0;34m=\u001b[0m\u001b[0mraise_missing\u001b[0m\u001b[0;34m)\u001b[0m\u001b[0;34m\u001b[0m\u001b[0;34m\u001b[0m\u001b[0m\n\u001b[0m\u001b[1;32m   1255\u001b[0m         \u001b[0;32mreturn\u001b[0m \u001b[0mkeyarr\u001b[0m\u001b[0;34m,\u001b[0m \u001b[0mindexer\u001b[0m\u001b[0;34m\u001b[0m\u001b[0;34m\u001b[0m\u001b[0m\n\u001b[1;32m   1256\u001b[0m \u001b[0;34m\u001b[0m\u001b[0m\n",
            "\u001b[0;32m/usr/local/lib/python3.7/dist-packages/pandas/core/indexing.py\u001b[0m in \u001b[0;36m_validate_read_indexer\u001b[0;34m(self, key, indexer, axis, raise_missing)\u001b[0m\n\u001b[1;32m   1296\u001b[0m             \u001b[0;32mif\u001b[0m \u001b[0mmissing\u001b[0m \u001b[0;34m==\u001b[0m \u001b[0mlen\u001b[0m\u001b[0;34m(\u001b[0m\u001b[0mindexer\u001b[0m\u001b[0;34m)\u001b[0m\u001b[0;34m:\u001b[0m\u001b[0;34m\u001b[0m\u001b[0;34m\u001b[0m\u001b[0m\n\u001b[1;32m   1297\u001b[0m                 \u001b[0maxis_name\u001b[0m \u001b[0;34m=\u001b[0m \u001b[0mself\u001b[0m\u001b[0;34m.\u001b[0m\u001b[0mobj\u001b[0m\u001b[0;34m.\u001b[0m\u001b[0m_get_axis_name\u001b[0m\u001b[0;34m(\u001b[0m\u001b[0maxis\u001b[0m\u001b[0;34m)\u001b[0m\u001b[0;34m\u001b[0m\u001b[0;34m\u001b[0m\u001b[0m\n\u001b[0;32m-> 1298\u001b[0;31m                 \u001b[0;32mraise\u001b[0m \u001b[0mKeyError\u001b[0m\u001b[0;34m(\u001b[0m\u001b[0;34mf\"None of [{key}] are in the [{axis_name}]\"\u001b[0m\u001b[0;34m)\u001b[0m\u001b[0;34m\u001b[0m\u001b[0;34m\u001b[0m\u001b[0m\n\u001b[0m\u001b[1;32m   1299\u001b[0m \u001b[0;34m\u001b[0m\u001b[0m\n\u001b[1;32m   1300\u001b[0m             \u001b[0;31m# We (temporarily) allow for some missing keys with .loc, except in\u001b[0m\u001b[0;34m\u001b[0m\u001b[0;34m\u001b[0m\u001b[0;34m\u001b[0m\u001b[0m\n",
            "\u001b[0;31mKeyError\u001b[0m: \"None of [Int64Index([3, 8], dtype='int64')] are in the [columns]\""
          ]
        }
      ]
    },
    {
      "cell_type": "markdown",
      "metadata": {
        "id": "KOQUk4bAe2XJ"
      },
      "source": [
        "Nos da un error porque cuando pasamos únicamente una lista al indexing, pandas asume que queremos un set de columnas y si los nombres no existen, da error. La forma correcta de hacerlo es pasar una lista de índices y explicitar que vamos a indizar con loc y que seleccionamos todas las columnas."
      ]
    },
    {
      "cell_type": "code",
      "metadata": {
        "id": "YY1X7U0Qe2XJ"
      },
      "source": [
        "# Correcto\n",
        "df_view = df_casospositivos.loc[[3,8],:]"
      ],
      "execution_count": null,
      "outputs": []
    },
    {
      "cell_type": "code",
      "metadata": {
        "colab": {
          "base_uri": "https://localhost:8080/",
          "height": 112
        },
        "id": "c7_XYRiJe2XJ",
        "outputId": "8b35fd51-c7b6-4881-8cc2-4332d08534cb"
      },
      "source": [
        "df_view"
      ],
      "execution_count": null,
      "outputs": [
        {
          "output_type": "execute_result",
          "data": {
            "text/html": [
              "<div>\n",
              "<style scoped>\n",
              "    .dataframe tbody tr th:only-of-type {\n",
              "        vertical-align: middle;\n",
              "    }\n",
              "\n",
              "    .dataframe tbody tr th {\n",
              "        vertical-align: top;\n",
              "    }\n",
              "\n",
              "    .dataframe thead th {\n",
              "        text-align: right;\n",
              "    }\n",
              "</style>\n",
              "<table border=\"1\" class=\"dataframe\">\n",
              "  <thead>\n",
              "    <tr style=\"text-align: right;\">\n",
              "      <th></th>\n",
              "      <th>FECHA_CORTE</th>\n",
              "      <th>UUID</th>\n",
              "      <th>DEPARTAMENTO</th>\n",
              "      <th>PROVINCIA</th>\n",
              "      <th>DISTRITO</th>\n",
              "      <th>METODODX</th>\n",
              "      <th>EDAD</th>\n",
              "      <th>SEXO</th>\n",
              "      <th>FECHA_RESULTADO</th>\n",
              "    </tr>\n",
              "  </thead>\n",
              "  <tbody>\n",
              "    <tr>\n",
              "      <th>3</th>\n",
              "      <td>20210703</td>\n",
              "      <td>566af4276cbe9359abe93f9aa86396c3</td>\n",
              "      <td>LIMA</td>\n",
              "      <td>LIMA</td>\n",
              "      <td>LIMA</td>\n",
              "      <td>PR</td>\n",
              "      <td>65.0</td>\n",
              "      <td>FEMENINO</td>\n",
              "      <td>20200330.0</td>\n",
              "    </tr>\n",
              "    <tr>\n",
              "      <th>8</th>\n",
              "      <td>20210703</td>\n",
              "      <td>0e2a1928ddd07d99978758e86b034131</td>\n",
              "      <td>LIMA REGION</td>\n",
              "      <td>EN INVESTIGACIÓN</td>\n",
              "      <td>EN INVESTIGACIÓN</td>\n",
              "      <td>PR</td>\n",
              "      <td>41.0</td>\n",
              "      <td>MASCULINO</td>\n",
              "      <td>20200330.0</td>\n",
              "    </tr>\n",
              "  </tbody>\n",
              "</table>\n",
              "</div>"
            ],
            "text/plain": [
              "   FECHA_CORTE                              UUID  ...       SEXO FECHA_RESULTADO\n",
              "3     20210703  566af4276cbe9359abe93f9aa86396c3  ...   FEMENINO      20200330.0\n",
              "8     20210703  0e2a1928ddd07d99978758e86b034131  ...  MASCULINO      20200330.0\n",
              "\n",
              "[2 rows x 9 columns]"
            ]
          },
          "metadata": {},
          "execution_count": 53
        }
      ]
    },
    {
      "cell_type": "markdown",
      "metadata": {
        "id": "3N-Q4yKde2XK"
      },
      "source": [
        "Ejercicio. Volviendo al ejemplo del titanic...\n",
        "\n",
        "1) ¿Cuántos hombres y mujeres sobrevivieron?\n",
        "\n",
        "2) ¿Cuántos menores de 18 años había? ¿Cuántos sobrevivieron?\n",
        "\n",
        "3) Seleccionen únicamente las columnas Sex y Survived y almacenenlas en un nuevo DataFrame que se llame df_titanic_subset.\n"
      ]
    },
    {
      "cell_type": "code",
      "metadata": {
        "id": "JHAspfWLe2XK",
        "colab": {
          "base_uri": "https://localhost:8080/"
        },
        "outputId": "8178de41-a4b6-4c6c-fad5-10ca14ac734f"
      },
      "source": [
        "df_titanic.query('Sex == \"male\" & Survived==1').shape"
      ],
      "execution_count": null,
      "outputs": [
        {
          "output_type": "execute_result",
          "data": {
            "text/plain": [
              "(109, 12)"
            ]
          },
          "metadata": {},
          "execution_count": 54
        }
      ]
    },
    {
      "cell_type": "code",
      "metadata": {
        "id": "eO0i-c2Ye2XK",
        "colab": {
          "base_uri": "https://localhost:8080/"
        },
        "outputId": "9ffd5535-81de-4751-9e3f-77a74f2f4539"
      },
      "source": [
        "df_titanic.query('Sex == \"female\" & Survived==1').shape"
      ],
      "execution_count": null,
      "outputs": [
        {
          "output_type": "execute_result",
          "data": {
            "text/plain": [
              "(233, 12)"
            ]
          },
          "metadata": {},
          "execution_count": 55
        }
      ]
    },
    {
      "cell_type": "code",
      "metadata": {
        "id": "cpjXM8v1e2XK",
        "colab": {
          "base_uri": "https://localhost:8080/"
        },
        "outputId": "daef6b76-5f2e-4ad7-c71b-23cd8f9f914d"
      },
      "source": [
        "df_titanic.query('Age <= 18').shape"
      ],
      "execution_count": null,
      "outputs": [
        {
          "output_type": "execute_result",
          "data": {
            "text/plain": [
              "(139, 12)"
            ]
          },
          "metadata": {},
          "execution_count": 56
        }
      ]
    },
    {
      "cell_type": "code",
      "metadata": {
        "id": "h8p2bbCBe2XK",
        "colab": {
          "base_uri": "https://localhost:8080/"
        },
        "outputId": "4dcb76dd-2070-4460-91eb-c2f87d9cd387"
      },
      "source": [
        "df_titanic.query('Age <= 18 & Survived==1').shape"
      ],
      "execution_count": null,
      "outputs": [
        {
          "output_type": "execute_result",
          "data": {
            "text/plain": [
              "(70, 12)"
            ]
          },
          "metadata": {},
          "execution_count": 57
        }
      ]
    },
    {
      "cell_type": "code",
      "metadata": {
        "id": "vAuHy8rde2XK"
      },
      "source": [
        "df_titanic_subset = df_titanic[['Sex','Survived']]"
      ],
      "execution_count": null,
      "outputs": []
    },
    {
      "cell_type": "code",
      "metadata": {
        "id": "V5xOk-mRe2XK",
        "colab": {
          "base_uri": "https://localhost:8080/",
          "height": 205
        },
        "outputId": "305d9c2c-92e5-4a23-bd85-e3b73a4e15e5"
      },
      "source": [
        "df_titanic_subset.head()"
      ],
      "execution_count": null,
      "outputs": [
        {
          "output_type": "execute_result",
          "data": {
            "text/html": [
              "<div>\n",
              "<style scoped>\n",
              "    .dataframe tbody tr th:only-of-type {\n",
              "        vertical-align: middle;\n",
              "    }\n",
              "\n",
              "    .dataframe tbody tr th {\n",
              "        vertical-align: top;\n",
              "    }\n",
              "\n",
              "    .dataframe thead th {\n",
              "        text-align: right;\n",
              "    }\n",
              "</style>\n",
              "<table border=\"1\" class=\"dataframe\">\n",
              "  <thead>\n",
              "    <tr style=\"text-align: right;\">\n",
              "      <th></th>\n",
              "      <th>Sex</th>\n",
              "      <th>Survived</th>\n",
              "    </tr>\n",
              "  </thead>\n",
              "  <tbody>\n",
              "    <tr>\n",
              "      <th>0</th>\n",
              "      <td>male</td>\n",
              "      <td>0</td>\n",
              "    </tr>\n",
              "    <tr>\n",
              "      <th>1</th>\n",
              "      <td>female</td>\n",
              "      <td>1</td>\n",
              "    </tr>\n",
              "    <tr>\n",
              "      <th>2</th>\n",
              "      <td>female</td>\n",
              "      <td>1</td>\n",
              "    </tr>\n",
              "    <tr>\n",
              "      <th>3</th>\n",
              "      <td>female</td>\n",
              "      <td>1</td>\n",
              "    </tr>\n",
              "    <tr>\n",
              "      <th>4</th>\n",
              "      <td>male</td>\n",
              "      <td>0</td>\n",
              "    </tr>\n",
              "  </tbody>\n",
              "</table>\n",
              "</div>"
            ],
            "text/plain": [
              "      Sex  Survived\n",
              "0    male         0\n",
              "1  female         1\n",
              "2  female         1\n",
              "3  female         1\n",
              "4    male         0"
            ]
          },
          "metadata": {},
          "execution_count": 59
        }
      ]
    },
    {
      "cell_type": "markdown",
      "metadata": {
        "id": "fMyX69MIe2XL"
      },
      "source": [
        "## Funciones de Agregación\n",
        "\n",
        "Utilizando Pandas podemos aplicar funciones a nivel de columna. Algunas funciones predefinidas son la media, el desvío estándar y la sumatoria, el valor máximo y el mínimo.\n",
        "\n",
        "Algunas de las funciones de agregación más comunes son:\n",
        "\n",
        "<ul>\n",
        "    <li>min</li>\n",
        "    <li>max</li>\n",
        "    <li>count</li>\n",
        "    <li>sum</li>\n",
        "    <li>prod</li>\n",
        "    <li>mean</li>\n",
        "    <li>median</li>\n",
        "    <li>mode</li>\n",
        "    <li>std</li>\n",
        "    <li>var</li>\n",
        "</ul>\n",
        "\n",
        "\n"
      ]
    },
    {
      "cell_type": "code",
      "metadata": {
        "id": "aFp_ABn7e2XL",
        "colab": {
          "base_uri": "https://localhost:8080/"
        },
        "outputId": "673cbe94-e7ed-480d-e29a-b1644431ddcb"
      },
      "source": [
        "df_casospositivos['EDAD'].max()"
      ],
      "execution_count": null,
      "outputs": [
        {
          "output_type": "execute_result",
          "data": {
            "text/plain": [
              "121.0"
            ]
          },
          "metadata": {},
          "execution_count": 60
        }
      ]
    },
    {
      "cell_type": "code",
      "metadata": {
        "id": "3gbh7P_ye2XL",
        "colab": {
          "base_uri": "https://localhost:8080/"
        },
        "outputId": "c7da0a9d-78ec-4043-8cfd-55b927d47f3c"
      },
      "source": [
        "df_casospositivos['EDAD'].mean()"
      ],
      "execution_count": null,
      "outputs": [
        {
          "output_type": "execute_result",
          "data": {
            "text/plain": [
              "42.20716167280698"
            ]
          },
          "metadata": {},
          "execution_count": 61
        }
      ]
    },
    {
      "cell_type": "code",
      "metadata": {
        "id": "pe3707w7e2XL",
        "colab": {
          "base_uri": "https://localhost:8080/"
        },
        "outputId": "fd2b4bf4-37fd-4772-9a03-5a1cd4009928"
      },
      "source": [
        "df_casospositivos['EDAD'].std()"
      ],
      "execution_count": null,
      "outputs": [
        {
          "output_type": "execute_result",
          "data": {
            "text/plain": [
              "17.703831792898022"
            ]
          },
          "metadata": {},
          "execution_count": 62
        }
      ]
    },
    {
      "cell_type": "code",
      "metadata": {
        "id": "i0qMMV1Ve2XL",
        "colab": {
          "base_uri": "https://localhost:8080/"
        },
        "outputId": "46a12cb5-3b92-4b08-f5a7-33eb7efc0df0"
      },
      "source": [
        "df_casospositivos['EDAD'].sum()"
      ],
      "execution_count": null,
      "outputs": [
        {
          "output_type": "execute_result",
          "data": {
            "text/plain": [
              "87148039.0"
            ]
          },
          "metadata": {},
          "execution_count": 63
        }
      ]
    },
    {
      "cell_type": "markdown",
      "metadata": {
        "id": "ogdpD25Le2XL"
      },
      "source": [
        "Podemos combinar los filtros que vimos antes con las funciones de agregación para responder preguntas cómo ¿Cuál fue la edad promedio en lima de casos covid positivos? ¿y solo Masculina?"
      ]
    },
    {
      "cell_type": "code",
      "metadata": {
        "id": "jw1cYIgGe2XL",
        "colab": {
          "base_uri": "https://localhost:8080/"
        },
        "outputId": "ab29db5f-4e7f-4b33-ed03-310ff614fd25"
      },
      "source": [
        "df_casospositivos[df_casospositivos['DEPARTAMENTO'] == 'LIMA']['EDAD'].mean()"
      ],
      "execution_count": null,
      "outputs": [
        {
          "output_type": "execute_result",
          "data": {
            "text/plain": [
              "42.62343014291768"
            ]
          },
          "metadata": {},
          "execution_count": 64
        }
      ]
    },
    {
      "cell_type": "code",
      "metadata": {
        "id": "mg-zzYg-e2XM",
        "colab": {
          "base_uri": "https://localhost:8080/"
        },
        "outputId": "2f37b826-edbc-45ca-8b36-206183a2c4a9"
      },
      "source": [
        "df_casospositivos[(df_casospositivos['DEPARTAMENTO'] == 'LIMA')&(df_casospositivos['SEXO'] == 'MASCULINO')]['EDAD'].mean()"
      ],
      "execution_count": null,
      "outputs": [
        {
          "output_type": "execute_result",
          "data": {
            "text/plain": [
              "42.641066239683155"
            ]
          },
          "metadata": {},
          "execution_count": 65
        }
      ]
    },
    {
      "cell_type": "markdown",
      "metadata": {
        "id": "YjtNsg2Fe2XM"
      },
      "source": [
        "Ahora respondamos algunas preguntas: ¿Cúal es la edad mas alta? ¿Y el más bajo?"
      ]
    },
    {
      "cell_type": "code",
      "metadata": {
        "scrolled": true,
        "id": "jmkjx5m3e2XM",
        "colab": {
          "base_uri": "https://localhost:8080/"
        },
        "outputId": "6eb7d334-8bbc-4e4f-fb44-06b2fdaa44a8"
      },
      "source": [
        "df_casospositivos[(df_casospositivos['DEPARTAMENTO'] == 'LIMA')&(df_casospositivos['SEXO'] == 'MASCULINO')]['EDAD'].max()"
      ],
      "execution_count": null,
      "outputs": [
        {
          "output_type": "execute_result",
          "data": {
            "text/plain": [
              "121.0"
            ]
          },
          "metadata": {},
          "execution_count": 66
        }
      ]
    },
    {
      "cell_type": "code",
      "metadata": {
        "scrolled": true,
        "id": "JZ7GU09ve2XM",
        "colab": {
          "base_uri": "https://localhost:8080/"
        },
        "outputId": "c603dbaa-7ff5-4ff1-c4c0-254073a1fc8b"
      },
      "source": [
        "df_casospositivos[(df_casospositivos['DEPARTAMENTO'] == 'LIMA')&(df_casospositivos['SEXO'] == 'MASCULINO')]['EDAD'].min()"
      ],
      "execution_count": null,
      "outputs": [
        {
          "output_type": "execute_result",
          "data": {
            "text/plain": [
              "0.0"
            ]
          },
          "metadata": {},
          "execution_count": 67
        }
      ]
    },
    {
      "cell_type": "markdown",
      "metadata": {
        "id": "dvbFPI36e2XM"
      },
      "source": [
        "# Otros análisis descriptivos\n",
        "\n",
        "Pandas viene con algunas funciones built-in para ayudar al análisis descriptivo.\n",
        "\n",
        "## Para las variables numéricas"
      ]
    },
    {
      "cell_type": "code",
      "metadata": {
        "id": "YQIe9_5pe2XM",
        "colab": {
          "base_uri": "https://localhost:8080/",
          "height": 299
        },
        "outputId": "83d733de-b87c-4b5a-e32b-548d26df3f2d"
      },
      "source": [
        "df_casospositivos.describe()"
      ],
      "execution_count": null,
      "outputs": [
        {
          "output_type": "execute_result",
          "data": {
            "text/html": [
              "<div>\n",
              "<style scoped>\n",
              "    .dataframe tbody tr th:only-of-type {\n",
              "        vertical-align: middle;\n",
              "    }\n",
              "\n",
              "    .dataframe tbody tr th {\n",
              "        vertical-align: top;\n",
              "    }\n",
              "\n",
              "    .dataframe thead th {\n",
              "        text-align: right;\n",
              "    }\n",
              "</style>\n",
              "<table border=\"1\" class=\"dataframe\">\n",
              "  <thead>\n",
              "    <tr style=\"text-align: right;\">\n",
              "      <th></th>\n",
              "      <th>FECHA_CORTE</th>\n",
              "      <th>EDAD</th>\n",
              "      <th>FECHA_RESULTADO</th>\n",
              "    </tr>\n",
              "  </thead>\n",
              "  <tbody>\n",
              "    <tr>\n",
              "      <th>count</th>\n",
              "      <td>2065113.0</td>\n",
              "      <td>2.064769e+06</td>\n",
              "      <td>2.063090e+06</td>\n",
              "    </tr>\n",
              "    <tr>\n",
              "      <th>mean</th>\n",
              "      <td>20210703.0</td>\n",
              "      <td>4.220716e+01</td>\n",
              "      <td>2.020561e+07</td>\n",
              "    </tr>\n",
              "    <tr>\n",
              "      <th>std</th>\n",
              "      <td>0.0</td>\n",
              "      <td>1.770383e+01</td>\n",
              "      <td>4.785085e+03</td>\n",
              "    </tr>\n",
              "    <tr>\n",
              "      <th>min</th>\n",
              "      <td>20210703.0</td>\n",
              "      <td>-7.900000e+01</td>\n",
              "      <td>2.020031e+07</td>\n",
              "    </tr>\n",
              "    <tr>\n",
              "      <th>25%</th>\n",
              "      <td>20210703.0</td>\n",
              "      <td>2.900000e+01</td>\n",
              "      <td>2.020081e+07</td>\n",
              "    </tr>\n",
              "    <tr>\n",
              "      <th>50%</th>\n",
              "      <td>20210703.0</td>\n",
              "      <td>4.000000e+01</td>\n",
              "      <td>2.021011e+07</td>\n",
              "    </tr>\n",
              "    <tr>\n",
              "      <th>75%</th>\n",
              "      <td>20210703.0</td>\n",
              "      <td>5.400000e+01</td>\n",
              "      <td>2.021033e+07</td>\n",
              "    </tr>\n",
              "    <tr>\n",
              "      <th>max</th>\n",
              "      <td>20210703.0</td>\n",
              "      <td>1.210000e+02</td>\n",
              "      <td>2.021070e+07</td>\n",
              "    </tr>\n",
              "  </tbody>\n",
              "</table>\n",
              "</div>"
            ],
            "text/plain": [
              "       FECHA_CORTE          EDAD  FECHA_RESULTADO\n",
              "count    2065113.0  2.064769e+06     2.063090e+06\n",
              "mean    20210703.0  4.220716e+01     2.020561e+07\n",
              "std            0.0  1.770383e+01     4.785085e+03\n",
              "min     20210703.0 -7.900000e+01     2.020031e+07\n",
              "25%     20210703.0  2.900000e+01     2.020081e+07\n",
              "50%     20210703.0  4.000000e+01     2.021011e+07\n",
              "75%     20210703.0  5.400000e+01     2.021033e+07\n",
              "max     20210703.0  1.210000e+02     2.021070e+07"
            ]
          },
          "metadata": {},
          "execution_count": 68
        }
      ]
    },
    {
      "cell_type": "markdown",
      "metadata": {
        "id": "lBGHpYN9e2XM"
      },
      "source": [
        "## Para las variables categóricas\n"
      ]
    },
    {
      "cell_type": "code",
      "metadata": {
        "id": "HwwuOHBBe2XN",
        "colab": {
          "base_uri": "https://localhost:8080/"
        },
        "outputId": "3680e0ff-76b1-43ff-d5ac-23be841d1936"
      },
      "source": [
        "df_casospositivos['DEPARTAMENTO'].value_counts()"
      ],
      "execution_count": null,
      "outputs": [
        {
          "output_type": "execute_result",
          "data": {
            "text/plain": [
              "LIMA             842723\n",
              "AREQUIPA         102772\n",
              "CALLAO            97416\n",
              "LA LIBERTAD       83611\n",
              "PIURA             82835\n",
              "JUNIN             79309\n",
              "ANCASH            73266\n",
              "LIMA REGION       68679\n",
              "CUSCO             68101\n",
              "CAJAMARCA         62448\n",
              "LAMBAYEQUE        57641\n",
              "ICA               55263\n",
              "SAN MARTIN        46264\n",
              "LORETO            41896\n",
              "PUNO              35605\n",
              "HUANUCO           33830\n",
              "UCAYALI           31720\n",
              "AYACUCHO          30800\n",
              "AMAZONAS          30079\n",
              "TACNA             27909\n",
              "MOQUEGUA          26800\n",
              "APURIMAC          24858\n",
              "TUMBES            17593\n",
              "HUANCAVELICA      15321\n",
              "PASCO             14836\n",
              "MADRE DE DIOS     13538\n",
              "Name: DEPARTAMENTO, dtype: int64"
            ]
          },
          "metadata": {},
          "execution_count": 69
        }
      ]
    },
    {
      "cell_type": "code",
      "metadata": {
        "colab": {
          "base_uri": "https://localhost:8080/"
        },
        "id": "I0XaEyI5eqVs",
        "outputId": "1455a380-1fc8-4513-d3bc-59fe96008fbc"
      },
      "source": [
        "df_casospositivos.columns"
      ],
      "execution_count": null,
      "outputs": [
        {
          "output_type": "execute_result",
          "data": {
            "text/plain": [
              "Index(['FECHA_CORTE', 'UUID', 'DEPARTAMENTO', 'PROVINCIA', 'DISTRITO',\n",
              "       'METODODX', 'EDAD', 'SEXO', 'FECHA_RESULTADO'],\n",
              "      dtype='object')"
            ]
          },
          "metadata": {},
          "execution_count": 70
        }
      ]
    },
    {
      "cell_type": "markdown",
      "metadata": {
        "id": "iDN5mE2We2XN"
      },
      "source": [
        "### Ejercicio: Volviendo al ejemplo del Titanic:\n",
        "\n",
        "1) ¿Cuál era la edad promedio de los pasajeros de cada clase (Pclass)?\n",
        "\n",
        "2) ¿Cuál fue la tarifa que pagaron en promedio los hombres? ¿Y las mujeres?\n",
        "\n",
        "3) ¿Cuánto pagaron en total los pasajeros de primera clase para subir al Titanic? ¿Y los de tercera?\n",
        "\n",
        "4) ¿Cuántos pasajeros había en cada tipo de clase?"
      ]
    },
    {
      "cell_type": "code",
      "metadata": {
        "id": "2wqEjNBLe2XN",
        "colab": {
          "base_uri": "https://localhost:8080/",
          "height": 205
        },
        "outputId": "5b04c2f7-d34f-4977-ec1e-3d08904fc1ac"
      },
      "source": [
        "df_titanic.head()"
      ],
      "execution_count": null,
      "outputs": [
        {
          "output_type": "execute_result",
          "data": {
            "text/html": [
              "<div>\n",
              "<style scoped>\n",
              "    .dataframe tbody tr th:only-of-type {\n",
              "        vertical-align: middle;\n",
              "    }\n",
              "\n",
              "    .dataframe tbody tr th {\n",
              "        vertical-align: top;\n",
              "    }\n",
              "\n",
              "    .dataframe thead th {\n",
              "        text-align: right;\n",
              "    }\n",
              "</style>\n",
              "<table border=\"1\" class=\"dataframe\">\n",
              "  <thead>\n",
              "    <tr style=\"text-align: right;\">\n",
              "      <th></th>\n",
              "      <th>PassengerId</th>\n",
              "      <th>Survived</th>\n",
              "      <th>Pclass</th>\n",
              "      <th>Name</th>\n",
              "      <th>Sex</th>\n",
              "      <th>Age</th>\n",
              "      <th>SibSp</th>\n",
              "      <th>Parch</th>\n",
              "      <th>Ticket</th>\n",
              "      <th>Fare</th>\n",
              "      <th>Cabin</th>\n",
              "      <th>Embarked</th>\n",
              "    </tr>\n",
              "  </thead>\n",
              "  <tbody>\n",
              "    <tr>\n",
              "      <th>0</th>\n",
              "      <td>1</td>\n",
              "      <td>0</td>\n",
              "      <td>3</td>\n",
              "      <td>Braund, Mr. Owen Harris</td>\n",
              "      <td>male</td>\n",
              "      <td>22.0</td>\n",
              "      <td>1</td>\n",
              "      <td>0</td>\n",
              "      <td>A/5 21171</td>\n",
              "      <td>7.2500</td>\n",
              "      <td>NaN</td>\n",
              "      <td>S</td>\n",
              "    </tr>\n",
              "    <tr>\n",
              "      <th>1</th>\n",
              "      <td>2</td>\n",
              "      <td>1</td>\n",
              "      <td>1</td>\n",
              "      <td>Cumings, Mrs. John Bradley (Florence Briggs Th...</td>\n",
              "      <td>female</td>\n",
              "      <td>38.0</td>\n",
              "      <td>1</td>\n",
              "      <td>0</td>\n",
              "      <td>PC 17599</td>\n",
              "      <td>71.2833</td>\n",
              "      <td>C85</td>\n",
              "      <td>C</td>\n",
              "    </tr>\n",
              "    <tr>\n",
              "      <th>2</th>\n",
              "      <td>3</td>\n",
              "      <td>1</td>\n",
              "      <td>3</td>\n",
              "      <td>Heikkinen, Miss. Laina</td>\n",
              "      <td>female</td>\n",
              "      <td>26.0</td>\n",
              "      <td>0</td>\n",
              "      <td>0</td>\n",
              "      <td>STON/O2. 3101282</td>\n",
              "      <td>7.9250</td>\n",
              "      <td>NaN</td>\n",
              "      <td>S</td>\n",
              "    </tr>\n",
              "    <tr>\n",
              "      <th>3</th>\n",
              "      <td>4</td>\n",
              "      <td>1</td>\n",
              "      <td>1</td>\n",
              "      <td>Futrelle, Mrs. Jacques Heath (Lily May Peel)</td>\n",
              "      <td>female</td>\n",
              "      <td>35.0</td>\n",
              "      <td>1</td>\n",
              "      <td>0</td>\n",
              "      <td>113803</td>\n",
              "      <td>53.1000</td>\n",
              "      <td>C123</td>\n",
              "      <td>S</td>\n",
              "    </tr>\n",
              "    <tr>\n",
              "      <th>4</th>\n",
              "      <td>5</td>\n",
              "      <td>0</td>\n",
              "      <td>3</td>\n",
              "      <td>Allen, Mr. William Henry</td>\n",
              "      <td>male</td>\n",
              "      <td>35.0</td>\n",
              "      <td>0</td>\n",
              "      <td>0</td>\n",
              "      <td>373450</td>\n",
              "      <td>8.0500</td>\n",
              "      <td>NaN</td>\n",
              "      <td>S</td>\n",
              "    </tr>\n",
              "  </tbody>\n",
              "</table>\n",
              "</div>"
            ],
            "text/plain": [
              "   PassengerId  Survived  Pclass  ...     Fare Cabin  Embarked\n",
              "0            1         0       3  ...   7.2500   NaN         S\n",
              "1            2         1       1  ...  71.2833   C85         C\n",
              "2            3         1       3  ...   7.9250   NaN         S\n",
              "3            4         1       1  ...  53.1000  C123         S\n",
              "4            5         0       3  ...   8.0500   NaN         S\n",
              "\n",
              "[5 rows x 12 columns]"
            ]
          },
          "metadata": {},
          "execution_count": 71
        }
      ]
    },
    {
      "cell_type": "code",
      "metadata": {
        "id": "3lxziXVqe2XN",
        "colab": {
          "base_uri": "https://localhost:8080/"
        },
        "outputId": "e1adfd74-ba2f-49a7-cc36-f8faae9dce6d"
      },
      "source": [
        "df_titanic.query('Pclass == 1')['Age'].mean()"
      ],
      "execution_count": null,
      "outputs": [
        {
          "output_type": "execute_result",
          "data": {
            "text/plain": [
              "38.233440860215055"
            ]
          },
          "metadata": {},
          "execution_count": 72
        }
      ]
    },
    {
      "cell_type": "code",
      "metadata": {
        "id": "iHdjNnKhe2XN",
        "colab": {
          "base_uri": "https://localhost:8080/"
        },
        "outputId": "3ac2d3c9-cf59-4246-c141-513e1b3bc781"
      },
      "source": [
        "df_titanic.query('Pclass == 2')['Age'].mean()"
      ],
      "execution_count": null,
      "outputs": [
        {
          "output_type": "execute_result",
          "data": {
            "text/plain": [
              "29.87763005780347"
            ]
          },
          "metadata": {},
          "execution_count": 73
        }
      ]
    },
    {
      "cell_type": "code",
      "metadata": {
        "id": "noxou1P-e2XN",
        "colab": {
          "base_uri": "https://localhost:8080/"
        },
        "outputId": "7fe2549f-3e80-41a3-c1a4-6fc655a83950"
      },
      "source": [
        "df_titanic.query('Pclass == 3')['Age'].mean()"
      ],
      "execution_count": null,
      "outputs": [
        {
          "output_type": "execute_result",
          "data": {
            "text/plain": [
              "25.14061971830986"
            ]
          },
          "metadata": {},
          "execution_count": 74
        }
      ]
    },
    {
      "cell_type": "code",
      "metadata": {
        "id": "L612eEWae2XO",
        "colab": {
          "base_uri": "https://localhost:8080/"
        },
        "outputId": "d1f6809f-8844-4ea8-dff6-df85b57ecee7"
      },
      "source": [
        "df_titanic.query('Sex == \"male\"')['Fare'].mean()"
      ],
      "execution_count": null,
      "outputs": [
        {
          "output_type": "execute_result",
          "data": {
            "text/plain": [
              "25.523893414211418"
            ]
          },
          "metadata": {},
          "execution_count": 75
        }
      ]
    },
    {
      "cell_type": "code",
      "metadata": {
        "id": "FM0PIz2Re2XO",
        "colab": {
          "base_uri": "https://localhost:8080/"
        },
        "outputId": "e188b8c8-b3ff-48d5-b6fc-ac8bb86fd7be"
      },
      "source": [
        "df_titanic.query('Sex == \"female\"')['Fare'].mean()"
      ],
      "execution_count": null,
      "outputs": [
        {
          "output_type": "execute_result",
          "data": {
            "text/plain": [
              "44.47981783439487"
            ]
          },
          "metadata": {},
          "execution_count": 76
        }
      ]
    },
    {
      "cell_type": "code",
      "metadata": {
        "id": "skCdTV18e2XO",
        "colab": {
          "base_uri": "https://localhost:8080/"
        },
        "outputId": "f2bed3b5-1998-48a6-dde3-24a5d20253f0"
      },
      "source": [
        "df_titanic.query('Pclass == 1')['Fare'].sum()"
      ],
      "execution_count": null,
      "outputs": [
        {
          "output_type": "execute_result",
          "data": {
            "text/plain": [
              "18177.4125"
            ]
          },
          "metadata": {},
          "execution_count": 77
        }
      ]
    },
    {
      "cell_type": "code",
      "metadata": {
        "id": "ZkIO-1AOe2XO",
        "colab": {
          "base_uri": "https://localhost:8080/"
        },
        "outputId": "9878990d-a00b-4d5f-cfab-dad6b3747dd4"
      },
      "source": [
        "df_titanic.query('Pclass == 3')['Fare'].sum()"
      ],
      "execution_count": null,
      "outputs": [
        {
          "output_type": "execute_result",
          "data": {
            "text/plain": [
              "6714.6951"
            ]
          },
          "metadata": {},
          "execution_count": 78
        }
      ]
    },
    {
      "cell_type": "code",
      "metadata": {
        "id": "tHcM31fce2XO",
        "colab": {
          "base_uri": "https://localhost:8080/"
        },
        "outputId": "cfd32c99-fc6f-4acb-962a-ef18b168d5b7"
      },
      "source": [
        "df_titanic['Pclass'].value_counts()"
      ],
      "execution_count": null,
      "outputs": [
        {
          "output_type": "execute_result",
          "data": {
            "text/plain": [
              "3    491\n",
              "1    216\n",
              "2    184\n",
              "Name: Pclass, dtype: int64"
            ]
          },
          "metadata": {},
          "execution_count": 79
        }
      ]
    },
    {
      "cell_type": "markdown",
      "metadata": {
        "id": "ZDALXUI-e2XP"
      },
      "source": [
        "## Ordenar por columnas y limitar la cantidad de resultados"
      ]
    },
    {
      "cell_type": "markdown",
      "metadata": {
        "id": "nVy48czbe2XP"
      },
      "source": [
        "Otra forma de resolver el problema de encontrar el mayor y el menos es con el método sort_values. Este método puede recibir un valor único (nombre de columna) o una lista (con varias columnas) y un orden asc o desc. Por default el orden es asc.\n",
        "\n",
        "Si combinamos el ordenamiento con el método head() para limitar la cantidad de resultados, podemos encontrar los N primeros."
      ]
    },
    {
      "cell_type": "code",
      "metadata": {
        "id": "MXC839Npe2XP"
      },
      "source": [
        "# Recordemos cómo abrir la documentación de un método\n",
        "df_casospositivos.sort_values?"
      ],
      "execution_count": null,
      "outputs": []
    },
    {
      "cell_type": "code",
      "metadata": {
        "id": "UzDODCcUe2XP",
        "colab": {
          "base_uri": "https://localhost:8080/",
          "height": 362
        },
        "outputId": "de40eacb-d94c-46fa-949e-fdc6d6546251"
      },
      "source": [
        "# Calculamos el máximo\n",
        "df_casospositivos.sort_values('EDAD',ascending=False).head(10)"
      ],
      "execution_count": null,
      "outputs": [
        {
          "output_type": "execute_result",
          "data": {
            "text/html": [
              "<div>\n",
              "<style scoped>\n",
              "    .dataframe tbody tr th:only-of-type {\n",
              "        vertical-align: middle;\n",
              "    }\n",
              "\n",
              "    .dataframe tbody tr th {\n",
              "        vertical-align: top;\n",
              "    }\n",
              "\n",
              "    .dataframe thead th {\n",
              "        text-align: right;\n",
              "    }\n",
              "</style>\n",
              "<table border=\"1\" class=\"dataframe\">\n",
              "  <thead>\n",
              "    <tr style=\"text-align: right;\">\n",
              "      <th></th>\n",
              "      <th>FECHA_CORTE</th>\n",
              "      <th>UUID</th>\n",
              "      <th>DEPARTAMENTO</th>\n",
              "      <th>PROVINCIA</th>\n",
              "      <th>DISTRITO</th>\n",
              "      <th>METODODX</th>\n",
              "      <th>EDAD</th>\n",
              "      <th>SEXO</th>\n",
              "      <th>FECHA_RESULTADO</th>\n",
              "    </tr>\n",
              "  </thead>\n",
              "  <tbody>\n",
              "    <tr>\n",
              "      <th>1876749</th>\n",
              "      <td>20210703</td>\n",
              "      <td>5c2e2fa52711c03c738749a9581df07a</td>\n",
              "      <td>LIMA</td>\n",
              "      <td>LIMA</td>\n",
              "      <td>LIMA</td>\n",
              "      <td>PCR</td>\n",
              "      <td>121.0</td>\n",
              "      <td>MASCULINO</td>\n",
              "      <td>20210105.0</td>\n",
              "    </tr>\n",
              "    <tr>\n",
              "      <th>1588183</th>\n",
              "      <td>20210703</td>\n",
              "      <td>b6bca580efd52857e83de79488f9a8e3</td>\n",
              "      <td>LIMA</td>\n",
              "      <td>LIMA</td>\n",
              "      <td>LIMA</td>\n",
              "      <td>PCR</td>\n",
              "      <td>121.0</td>\n",
              "      <td>FEMENINO</td>\n",
              "      <td>20210312.0</td>\n",
              "    </tr>\n",
              "    <tr>\n",
              "      <th>1871869</th>\n",
              "      <td>20210703</td>\n",
              "      <td>b618234e69c43d3ecb9ba769a7dc6872</td>\n",
              "      <td>LIMA</td>\n",
              "      <td>LIMA</td>\n",
              "      <td>LIMA</td>\n",
              "      <td>PCR</td>\n",
              "      <td>121.0</td>\n",
              "      <td>MASCULINO</td>\n",
              "      <td>20210119.0</td>\n",
              "    </tr>\n",
              "    <tr>\n",
              "      <th>1873201</th>\n",
              "      <td>20210703</td>\n",
              "      <td>e2409cdf73bae59fb66ac8d99432bd7f</td>\n",
              "      <td>LIMA</td>\n",
              "      <td>LIMA</td>\n",
              "      <td>LIMA</td>\n",
              "      <td>PCR</td>\n",
              "      <td>121.0</td>\n",
              "      <td>MASCULINO</td>\n",
              "      <td>20210303.0</td>\n",
              "    </tr>\n",
              "    <tr>\n",
              "      <th>1859534</th>\n",
              "      <td>20210703</td>\n",
              "      <td>80250b1d4c5d58d5331adb06bf1efd4e</td>\n",
              "      <td>LIMA</td>\n",
              "      <td>EN INVESTIGACIÓN</td>\n",
              "      <td>EN INVESTIGACIÓN</td>\n",
              "      <td>PCR</td>\n",
              "      <td>120.0</td>\n",
              "      <td>MASCULINO</td>\n",
              "      <td>20200924.0</td>\n",
              "    </tr>\n",
              "    <tr>\n",
              "      <th>70046</th>\n",
              "      <td>20210703</td>\n",
              "      <td>b9e8df8cbcbe4e48361946f9f7f6c2c2</td>\n",
              "      <td>CALLAO</td>\n",
              "      <td>CALLAO</td>\n",
              "      <td>CALLAO</td>\n",
              "      <td>PR</td>\n",
              "      <td>120.0</td>\n",
              "      <td>MASCULINO</td>\n",
              "      <td>20200411.0</td>\n",
              "    </tr>\n",
              "    <tr>\n",
              "      <th>1873708</th>\n",
              "      <td>20210703</td>\n",
              "      <td>1da72a117088ff2ac1cea56640dd700c</td>\n",
              "      <td>LIMA</td>\n",
              "      <td>LIMA</td>\n",
              "      <td>VILLA MARIA DEL TRIUNFO</td>\n",
              "      <td>PCR</td>\n",
              "      <td>120.0</td>\n",
              "      <td>MASCULINO</td>\n",
              "      <td>20210305.0</td>\n",
              "    </tr>\n",
              "    <tr>\n",
              "      <th>444477</th>\n",
              "      <td>20210703</td>\n",
              "      <td>487b2acc801abfd21598e4c222cbeb2b</td>\n",
              "      <td>CALLAO</td>\n",
              "      <td>CALLAO</td>\n",
              "      <td>CALLAO</td>\n",
              "      <td>PR</td>\n",
              "      <td>120.0</td>\n",
              "      <td>MASCULINO</td>\n",
              "      <td>20200411.0</td>\n",
              "    </tr>\n",
              "    <tr>\n",
              "      <th>1554589</th>\n",
              "      <td>20210703</td>\n",
              "      <td>c9448fe35e5d0ce0eb50c89fc6245976</td>\n",
              "      <td>LIMA</td>\n",
              "      <td>LIMA</td>\n",
              "      <td>COMAS</td>\n",
              "      <td>PCR</td>\n",
              "      <td>120.0</td>\n",
              "      <td>FEMENINO</td>\n",
              "      <td>20200810.0</td>\n",
              "    </tr>\n",
              "    <tr>\n",
              "      <th>1871849</th>\n",
              "      <td>20210703</td>\n",
              "      <td>838c9ad9a993afaa254a46c3eac55746</td>\n",
              "      <td>LIMA</td>\n",
              "      <td>LIMA</td>\n",
              "      <td>LIMA</td>\n",
              "      <td>PCR</td>\n",
              "      <td>120.0</td>\n",
              "      <td>MASCULINO</td>\n",
              "      <td>20210206.0</td>\n",
              "    </tr>\n",
              "  </tbody>\n",
              "</table>\n",
              "</div>"
            ],
            "text/plain": [
              "         FECHA_CORTE  ... FECHA_RESULTADO\n",
              "1876749     20210703  ...      20210105.0\n",
              "1588183     20210703  ...      20210312.0\n",
              "1871869     20210703  ...      20210119.0\n",
              "1873201     20210703  ...      20210303.0\n",
              "1859534     20210703  ...      20200924.0\n",
              "70046       20210703  ...      20200411.0\n",
              "1873708     20210703  ...      20210305.0\n",
              "444477      20210703  ...      20200411.0\n",
              "1554589     20210703  ...      20200810.0\n",
              "1871849     20210703  ...      20210206.0\n",
              "\n",
              "[10 rows x 9 columns]"
            ]
          },
          "metadata": {},
          "execution_count": 81
        }
      ]
    },
    {
      "cell_type": "code",
      "metadata": {
        "id": "V5ZqGDJ9e2XP",
        "colab": {
          "base_uri": "https://localhost:8080/",
          "height": 362
        },
        "outputId": "788108b8-ad59-4110-c825-c010b8c4c1a7"
      },
      "source": [
        "# Calculamos el mínimo\n",
        "df_casospositivos.sort_values('EDAD').head(10)"
      ],
      "execution_count": null,
      "outputs": [
        {
          "output_type": "execute_result",
          "data": {
            "text/html": [
              "<div>\n",
              "<style scoped>\n",
              "    .dataframe tbody tr th:only-of-type {\n",
              "        vertical-align: middle;\n",
              "    }\n",
              "\n",
              "    .dataframe tbody tr th {\n",
              "        vertical-align: top;\n",
              "    }\n",
              "\n",
              "    .dataframe thead th {\n",
              "        text-align: right;\n",
              "    }\n",
              "</style>\n",
              "<table border=\"1\" class=\"dataframe\">\n",
              "  <thead>\n",
              "    <tr style=\"text-align: right;\">\n",
              "      <th></th>\n",
              "      <th>FECHA_CORTE</th>\n",
              "      <th>UUID</th>\n",
              "      <th>DEPARTAMENTO</th>\n",
              "      <th>PROVINCIA</th>\n",
              "      <th>DISTRITO</th>\n",
              "      <th>METODODX</th>\n",
              "      <th>EDAD</th>\n",
              "      <th>SEXO</th>\n",
              "      <th>FECHA_RESULTADO</th>\n",
              "    </tr>\n",
              "  </thead>\n",
              "  <tbody>\n",
              "    <tr>\n",
              "      <th>2032386</th>\n",
              "      <td>20210703</td>\n",
              "      <td>ca80f758fdb0d709c5b42248852e6847</td>\n",
              "      <td>LIMA</td>\n",
              "      <td>LIMA</td>\n",
              "      <td>SAN MIGUEL</td>\n",
              "      <td>PCR</td>\n",
              "      <td>-79.0</td>\n",
              "      <td>FEMENINO</td>\n",
              "      <td>20210505.0</td>\n",
              "    </tr>\n",
              "    <tr>\n",
              "      <th>773103</th>\n",
              "      <td>20210703</td>\n",
              "      <td>a612635ffaf18c6615f1aad9b79b13b1</td>\n",
              "      <td>PASCO</td>\n",
              "      <td>OXAPAMPA</td>\n",
              "      <td>CONSTITUCION</td>\n",
              "      <td>PR</td>\n",
              "      <td>0.0</td>\n",
              "      <td>MASCULINO</td>\n",
              "      <td>20201123.0</td>\n",
              "    </tr>\n",
              "    <tr>\n",
              "      <th>864626</th>\n",
              "      <td>20210703</td>\n",
              "      <td>6f3842cfa4597e97c4a18cff560477d3</td>\n",
              "      <td>CAJAMARCA</td>\n",
              "      <td>CAJAMARCA</td>\n",
              "      <td>CAJAMARCA</td>\n",
              "      <td>PR</td>\n",
              "      <td>0.0</td>\n",
              "      <td>MASCULINO</td>\n",
              "      <td>20210120.0</td>\n",
              "    </tr>\n",
              "    <tr>\n",
              "      <th>864627</th>\n",
              "      <td>20210703</td>\n",
              "      <td>450d35b931f752c5ea9ac8c87d6e0e11</td>\n",
              "      <td>CAJAMARCA</td>\n",
              "      <td>CAJAMARCA</td>\n",
              "      <td>ENCAÑADA</td>\n",
              "      <td>PR</td>\n",
              "      <td>0.0</td>\n",
              "      <td>MASCULINO</td>\n",
              "      <td>20210210.0</td>\n",
              "    </tr>\n",
              "    <tr>\n",
              "      <th>864629</th>\n",
              "      <td>20210703</td>\n",
              "      <td>928622c29c195d6b7b215138e4b508bb</td>\n",
              "      <td>AMAZONAS</td>\n",
              "      <td>CHACHAPOYAS</td>\n",
              "      <td>CHACHAPOYAS</td>\n",
              "      <td>PR</td>\n",
              "      <td>0.0</td>\n",
              "      <td>MASCULINO</td>\n",
              "      <td>20210411.0</td>\n",
              "    </tr>\n",
              "    <tr>\n",
              "      <th>864632</th>\n",
              "      <td>20210703</td>\n",
              "      <td>cd8549844ddb1ed561e2567c510bd72c</td>\n",
              "      <td>PUNO</td>\n",
              "      <td>CARABAYA</td>\n",
              "      <td>MACUSANI</td>\n",
              "      <td>PR</td>\n",
              "      <td>0.0</td>\n",
              "      <td>MASCULINO</td>\n",
              "      <td>20210214.0</td>\n",
              "    </tr>\n",
              "    <tr>\n",
              "      <th>734451</th>\n",
              "      <td>20210703</td>\n",
              "      <td>1c762963389fac8d0a967206fc0d1673</td>\n",
              "      <td>MOQUEGUA</td>\n",
              "      <td>ILO</td>\n",
              "      <td>ILO</td>\n",
              "      <td>PR</td>\n",
              "      <td>0.0</td>\n",
              "      <td>MASCULINO</td>\n",
              "      <td>20200824.0</td>\n",
              "    </tr>\n",
              "    <tr>\n",
              "      <th>625795</th>\n",
              "      <td>20210703</td>\n",
              "      <td>47d25c82a8b6b1d410f7a02c98c81f1b</td>\n",
              "      <td>CAJAMARCA</td>\n",
              "      <td>CAJAMARCA</td>\n",
              "      <td>CAJAMARCA</td>\n",
              "      <td>PR</td>\n",
              "      <td>0.0</td>\n",
              "      <td>FEMENINO</td>\n",
              "      <td>20200815.0</td>\n",
              "    </tr>\n",
              "    <tr>\n",
              "      <th>734450</th>\n",
              "      <td>20210703</td>\n",
              "      <td>601a58d4108176d1dd83f7255f70865e</td>\n",
              "      <td>MOQUEGUA</td>\n",
              "      <td>MARISCAL NIETO</td>\n",
              "      <td>MOQUEGUA</td>\n",
              "      <td>PR</td>\n",
              "      <td>0.0</td>\n",
              "      <td>MASCULINO</td>\n",
              "      <td>20200822.0</td>\n",
              "    </tr>\n",
              "    <tr>\n",
              "      <th>864754</th>\n",
              "      <td>20210703</td>\n",
              "      <td>24b265cfcacd2204e0ebbf2b688c55c2</td>\n",
              "      <td>LIMA</td>\n",
              "      <td>LIMA</td>\n",
              "      <td>SAN JUAN DE LURIGANCHO</td>\n",
              "      <td>PR</td>\n",
              "      <td>0.0</td>\n",
              "      <td>MASCULINO</td>\n",
              "      <td>20210201.0</td>\n",
              "    </tr>\n",
              "  </tbody>\n",
              "</table>\n",
              "</div>"
            ],
            "text/plain": [
              "         FECHA_CORTE  ... FECHA_RESULTADO\n",
              "2032386     20210703  ...      20210505.0\n",
              "773103      20210703  ...      20201123.0\n",
              "864626      20210703  ...      20210120.0\n",
              "864627      20210703  ...      20210210.0\n",
              "864629      20210703  ...      20210411.0\n",
              "864632      20210703  ...      20210214.0\n",
              "734451      20210703  ...      20200824.0\n",
              "625795      20210703  ...      20200815.0\n",
              "734450      20210703  ...      20200822.0\n",
              "864754      20210703  ...      20210201.0\n",
              "\n",
              "[10 rows x 9 columns]"
            ]
          },
          "metadata": {},
          "execution_count": 82
        }
      ]
    },
    {
      "cell_type": "code",
      "metadata": {
        "colab": {
          "base_uri": "https://localhost:8080/"
        },
        "id": "wPp_52-WIFM5",
        "outputId": "ea4ed7ad-8122-4edb-c1e6-437a1960275f"
      },
      "source": [
        "df_casospositivos.groupby(['DEPARTAMENTO'])['EDAD'].mean()"
      ],
      "execution_count": null,
      "outputs": [
        {
          "output_type": "execute_result",
          "data": {
            "text/plain": [
              "DEPARTAMENTO\n",
              "AMAZONAS         39.709655\n",
              "ANCASH           42.915527\n",
              "APURIMAC         41.196999\n",
              "AREQUIPA         43.187940\n",
              "AYACUCHO         42.945747\n",
              "CAJAMARCA        41.553597\n",
              "CALLAO           43.158116\n",
              "CUSCO            41.867988\n",
              "HUANCAVELICA     39.755173\n",
              "HUANUCO          41.884100\n",
              "ICA              40.775176\n",
              "JUNIN            41.702313\n",
              "LA LIBERTAD      42.918500\n",
              "LAMBAYEQUE       43.919543\n",
              "LIMA             42.623430\n",
              "LIMA REGION      42.572188\n",
              "LORETO           39.209582\n",
              "MADRE DE DIOS    38.760730\n",
              "MOQUEGUA         41.172985\n",
              "PASCO            40.046579\n",
              "PIURA            41.549696\n",
              "PUNO             42.523888\n",
              "SAN MARTIN       39.992024\n",
              "TACNA            41.984449\n",
              "TUMBES           39.623060\n",
              "UCAYALI          40.918884\n",
              "Name: EDAD, dtype: float64"
            ]
          },
          "metadata": {},
          "execution_count": 83
        }
      ]
    },
    {
      "cell_type": "code",
      "metadata": {
        "colab": {
          "base_uri": "https://localhost:8080/",
          "height": 1000
        },
        "id": "1BEBYHDCIeYj",
        "outputId": "43f240a2-8f03-48d0-9fed-4e552aac1278"
      },
      "source": [
        "df_casospositivos.groupby(['DEPARTAMENTO','SEXO'])['EDAD'].median().reset_index()"
      ],
      "execution_count": null,
      "outputs": [
        {
          "output_type": "execute_result",
          "data": {
            "text/html": [
              "<div>\n",
              "<style scoped>\n",
              "    .dataframe tbody tr th:only-of-type {\n",
              "        vertical-align: middle;\n",
              "    }\n",
              "\n",
              "    .dataframe tbody tr th {\n",
              "        vertical-align: top;\n",
              "    }\n",
              "\n",
              "    .dataframe thead th {\n",
              "        text-align: right;\n",
              "    }\n",
              "</style>\n",
              "<table border=\"1\" class=\"dataframe\">\n",
              "  <thead>\n",
              "    <tr style=\"text-align: right;\">\n",
              "      <th></th>\n",
              "      <th>DEPARTAMENTO</th>\n",
              "      <th>SEXO</th>\n",
              "      <th>EDAD</th>\n",
              "    </tr>\n",
              "  </thead>\n",
              "  <tbody>\n",
              "    <tr>\n",
              "      <th>0</th>\n",
              "      <td>AMAZONAS</td>\n",
              "      <td>FEMENINO</td>\n",
              "      <td>36.0</td>\n",
              "    </tr>\n",
              "    <tr>\n",
              "      <th>1</th>\n",
              "      <td>AMAZONAS</td>\n",
              "      <td>MASCULINO</td>\n",
              "      <td>39.0</td>\n",
              "    </tr>\n",
              "    <tr>\n",
              "      <th>2</th>\n",
              "      <td>ANCASH</td>\n",
              "      <td>FEMENINO</td>\n",
              "      <td>40.0</td>\n",
              "    </tr>\n",
              "    <tr>\n",
              "      <th>3</th>\n",
              "      <td>ANCASH</td>\n",
              "      <td>MASCULINO</td>\n",
              "      <td>42.0</td>\n",
              "    </tr>\n",
              "    <tr>\n",
              "      <th>4</th>\n",
              "      <td>APURIMAC</td>\n",
              "      <td>FEMENINO</td>\n",
              "      <td>38.0</td>\n",
              "    </tr>\n",
              "    <tr>\n",
              "      <th>5</th>\n",
              "      <td>APURIMAC</td>\n",
              "      <td>MASCULINO</td>\n",
              "      <td>40.0</td>\n",
              "    </tr>\n",
              "    <tr>\n",
              "      <th>6</th>\n",
              "      <td>AREQUIPA</td>\n",
              "      <td>FEMENINO</td>\n",
              "      <td>42.0</td>\n",
              "    </tr>\n",
              "    <tr>\n",
              "      <th>7</th>\n",
              "      <td>AREQUIPA</td>\n",
              "      <td>MASCULINO</td>\n",
              "      <td>42.0</td>\n",
              "    </tr>\n",
              "    <tr>\n",
              "      <th>8</th>\n",
              "      <td>AYACUCHO</td>\n",
              "      <td>FEMENINO</td>\n",
              "      <td>40.0</td>\n",
              "    </tr>\n",
              "    <tr>\n",
              "      <th>9</th>\n",
              "      <td>AYACUCHO</td>\n",
              "      <td>MASCULINO</td>\n",
              "      <td>42.0</td>\n",
              "    </tr>\n",
              "    <tr>\n",
              "      <th>10</th>\n",
              "      <td>CAJAMARCA</td>\n",
              "      <td>FEMENINO</td>\n",
              "      <td>38.0</td>\n",
              "    </tr>\n",
              "    <tr>\n",
              "      <th>11</th>\n",
              "      <td>CAJAMARCA</td>\n",
              "      <td>MASCULINO</td>\n",
              "      <td>40.0</td>\n",
              "    </tr>\n",
              "    <tr>\n",
              "      <th>12</th>\n",
              "      <td>CALLAO</td>\n",
              "      <td>FEMENINO</td>\n",
              "      <td>41.0</td>\n",
              "    </tr>\n",
              "    <tr>\n",
              "      <th>13</th>\n",
              "      <td>CALLAO</td>\n",
              "      <td>MASCULINO</td>\n",
              "      <td>42.0</td>\n",
              "    </tr>\n",
              "    <tr>\n",
              "      <th>14</th>\n",
              "      <td>CUSCO</td>\n",
              "      <td>FEMENINO</td>\n",
              "      <td>39.0</td>\n",
              "    </tr>\n",
              "    <tr>\n",
              "      <th>15</th>\n",
              "      <td>CUSCO</td>\n",
              "      <td>MASCULINO</td>\n",
              "      <td>41.0</td>\n",
              "    </tr>\n",
              "    <tr>\n",
              "      <th>16</th>\n",
              "      <td>HUANCAVELICA</td>\n",
              "      <td>FEMENINO</td>\n",
              "      <td>37.0</td>\n",
              "    </tr>\n",
              "    <tr>\n",
              "      <th>17</th>\n",
              "      <td>HUANCAVELICA</td>\n",
              "      <td>MASCULINO</td>\n",
              "      <td>38.0</td>\n",
              "    </tr>\n",
              "    <tr>\n",
              "      <th>18</th>\n",
              "      <td>HUANUCO</td>\n",
              "      <td>FEMENINO</td>\n",
              "      <td>39.0</td>\n",
              "    </tr>\n",
              "    <tr>\n",
              "      <th>19</th>\n",
              "      <td>HUANUCO</td>\n",
              "      <td>MASCULINO</td>\n",
              "      <td>41.0</td>\n",
              "    </tr>\n",
              "    <tr>\n",
              "      <th>20</th>\n",
              "      <td>ICA</td>\n",
              "      <td>FEMENINO</td>\n",
              "      <td>38.0</td>\n",
              "    </tr>\n",
              "    <tr>\n",
              "      <th>21</th>\n",
              "      <td>ICA</td>\n",
              "      <td>MASCULINO</td>\n",
              "      <td>40.0</td>\n",
              "    </tr>\n",
              "    <tr>\n",
              "      <th>22</th>\n",
              "      <td>JUNIN</td>\n",
              "      <td>FEMENINO</td>\n",
              "      <td>39.0</td>\n",
              "    </tr>\n",
              "    <tr>\n",
              "      <th>23</th>\n",
              "      <td>JUNIN</td>\n",
              "      <td>MASCULINO</td>\n",
              "      <td>41.0</td>\n",
              "    </tr>\n",
              "    <tr>\n",
              "      <th>24</th>\n",
              "      <td>LA LIBERTAD</td>\n",
              "      <td>FEMENINO</td>\n",
              "      <td>40.0</td>\n",
              "    </tr>\n",
              "    <tr>\n",
              "      <th>25</th>\n",
              "      <td>LA LIBERTAD</td>\n",
              "      <td>MASCULINO</td>\n",
              "      <td>42.0</td>\n",
              "    </tr>\n",
              "    <tr>\n",
              "      <th>26</th>\n",
              "      <td>LAMBAYEQUE</td>\n",
              "      <td>FEMENINO</td>\n",
              "      <td>42.0</td>\n",
              "    </tr>\n",
              "    <tr>\n",
              "      <th>27</th>\n",
              "      <td>LAMBAYEQUE</td>\n",
              "      <td>MASCULINO</td>\n",
              "      <td>44.0</td>\n",
              "    </tr>\n",
              "    <tr>\n",
              "      <th>28</th>\n",
              "      <td>LIMA</td>\n",
              "      <td>FEMENINO</td>\n",
              "      <td>41.0</td>\n",
              "    </tr>\n",
              "    <tr>\n",
              "      <th>29</th>\n",
              "      <td>LIMA</td>\n",
              "      <td>MASCULINO</td>\n",
              "      <td>41.0</td>\n",
              "    </tr>\n",
              "    <tr>\n",
              "      <th>30</th>\n",
              "      <td>LIMA REGION</td>\n",
              "      <td>FEMENINO</td>\n",
              "      <td>40.0</td>\n",
              "    </tr>\n",
              "    <tr>\n",
              "      <th>31</th>\n",
              "      <td>LIMA REGION</td>\n",
              "      <td>MASCULINO</td>\n",
              "      <td>42.0</td>\n",
              "    </tr>\n",
              "    <tr>\n",
              "      <th>32</th>\n",
              "      <td>LORETO</td>\n",
              "      <td>FEMENINO</td>\n",
              "      <td>37.0</td>\n",
              "    </tr>\n",
              "    <tr>\n",
              "      <th>33</th>\n",
              "      <td>LORETO</td>\n",
              "      <td>MASCULINO</td>\n",
              "      <td>39.0</td>\n",
              "    </tr>\n",
              "    <tr>\n",
              "      <th>34</th>\n",
              "      <td>MADRE DE DIOS</td>\n",
              "      <td>FEMENINO</td>\n",
              "      <td>35.0</td>\n",
              "    </tr>\n",
              "    <tr>\n",
              "      <th>35</th>\n",
              "      <td>MADRE DE DIOS</td>\n",
              "      <td>MASCULINO</td>\n",
              "      <td>40.0</td>\n",
              "    </tr>\n",
              "    <tr>\n",
              "      <th>36</th>\n",
              "      <td>MOQUEGUA</td>\n",
              "      <td>FEMENINO</td>\n",
              "      <td>40.0</td>\n",
              "    </tr>\n",
              "    <tr>\n",
              "      <th>37</th>\n",
              "      <td>MOQUEGUA</td>\n",
              "      <td>MASCULINO</td>\n",
              "      <td>40.0</td>\n",
              "    </tr>\n",
              "    <tr>\n",
              "      <th>38</th>\n",
              "      <td>PASCO</td>\n",
              "      <td>FEMENINO</td>\n",
              "      <td>37.0</td>\n",
              "    </tr>\n",
              "    <tr>\n",
              "      <th>39</th>\n",
              "      <td>PASCO</td>\n",
              "      <td>MASCULINO</td>\n",
              "      <td>39.0</td>\n",
              "    </tr>\n",
              "    <tr>\n",
              "      <th>40</th>\n",
              "      <td>PIURA</td>\n",
              "      <td>FEMENINO</td>\n",
              "      <td>39.0</td>\n",
              "    </tr>\n",
              "    <tr>\n",
              "      <th>41</th>\n",
              "      <td>PIURA</td>\n",
              "      <td>MASCULINO</td>\n",
              "      <td>41.0</td>\n",
              "    </tr>\n",
              "    <tr>\n",
              "      <th>42</th>\n",
              "      <td>PUNO</td>\n",
              "      <td>FEMENINO</td>\n",
              "      <td>40.0</td>\n",
              "    </tr>\n",
              "    <tr>\n",
              "      <th>43</th>\n",
              "      <td>PUNO</td>\n",
              "      <td>MASCULINO</td>\n",
              "      <td>42.0</td>\n",
              "    </tr>\n",
              "    <tr>\n",
              "      <th>44</th>\n",
              "      <td>SAN MARTIN</td>\n",
              "      <td>FEMENINO</td>\n",
              "      <td>37.0</td>\n",
              "    </tr>\n",
              "    <tr>\n",
              "      <th>45</th>\n",
              "      <td>SAN MARTIN</td>\n",
              "      <td>MASCULINO</td>\n",
              "      <td>39.0</td>\n",
              "    </tr>\n",
              "    <tr>\n",
              "      <th>46</th>\n",
              "      <td>TACNA</td>\n",
              "      <td>FEMENINO</td>\n",
              "      <td>40.0</td>\n",
              "    </tr>\n",
              "    <tr>\n",
              "      <th>47</th>\n",
              "      <td>TACNA</td>\n",
              "      <td>MASCULINO</td>\n",
              "      <td>42.0</td>\n",
              "    </tr>\n",
              "    <tr>\n",
              "      <th>48</th>\n",
              "      <td>TUMBES</td>\n",
              "      <td>FEMENINO</td>\n",
              "      <td>38.0</td>\n",
              "    </tr>\n",
              "    <tr>\n",
              "      <th>49</th>\n",
              "      <td>TUMBES</td>\n",
              "      <td>MASCULINO</td>\n",
              "      <td>38.0</td>\n",
              "    </tr>\n",
              "    <tr>\n",
              "      <th>50</th>\n",
              "      <td>UCAYALI</td>\n",
              "      <td>FEMENINO</td>\n",
              "      <td>38.0</td>\n",
              "    </tr>\n",
              "    <tr>\n",
              "      <th>51</th>\n",
              "      <td>UCAYALI</td>\n",
              "      <td>MASCULINO</td>\n",
              "      <td>41.0</td>\n",
              "    </tr>\n",
              "  </tbody>\n",
              "</table>\n",
              "</div>"
            ],
            "text/plain": [
              "     DEPARTAMENTO       SEXO  EDAD\n",
              "0        AMAZONAS   FEMENINO  36.0\n",
              "1        AMAZONAS  MASCULINO  39.0\n",
              "2          ANCASH   FEMENINO  40.0\n",
              "3          ANCASH  MASCULINO  42.0\n",
              "4        APURIMAC   FEMENINO  38.0\n",
              "5        APURIMAC  MASCULINO  40.0\n",
              "6        AREQUIPA   FEMENINO  42.0\n",
              "7        AREQUIPA  MASCULINO  42.0\n",
              "8        AYACUCHO   FEMENINO  40.0\n",
              "9        AYACUCHO  MASCULINO  42.0\n",
              "10      CAJAMARCA   FEMENINO  38.0\n",
              "11      CAJAMARCA  MASCULINO  40.0\n",
              "12         CALLAO   FEMENINO  41.0\n",
              "13         CALLAO  MASCULINO  42.0\n",
              "14          CUSCO   FEMENINO  39.0\n",
              "15          CUSCO  MASCULINO  41.0\n",
              "16   HUANCAVELICA   FEMENINO  37.0\n",
              "17   HUANCAVELICA  MASCULINO  38.0\n",
              "18        HUANUCO   FEMENINO  39.0\n",
              "19        HUANUCO  MASCULINO  41.0\n",
              "20            ICA   FEMENINO  38.0\n",
              "21            ICA  MASCULINO  40.0\n",
              "22          JUNIN   FEMENINO  39.0\n",
              "23          JUNIN  MASCULINO  41.0\n",
              "24    LA LIBERTAD   FEMENINO  40.0\n",
              "25    LA LIBERTAD  MASCULINO  42.0\n",
              "26     LAMBAYEQUE   FEMENINO  42.0\n",
              "27     LAMBAYEQUE  MASCULINO  44.0\n",
              "28           LIMA   FEMENINO  41.0\n",
              "29           LIMA  MASCULINO  41.0\n",
              "30    LIMA REGION   FEMENINO  40.0\n",
              "31    LIMA REGION  MASCULINO  42.0\n",
              "32         LORETO   FEMENINO  37.0\n",
              "33         LORETO  MASCULINO  39.0\n",
              "34  MADRE DE DIOS   FEMENINO  35.0\n",
              "35  MADRE DE DIOS  MASCULINO  40.0\n",
              "36       MOQUEGUA   FEMENINO  40.0\n",
              "37       MOQUEGUA  MASCULINO  40.0\n",
              "38          PASCO   FEMENINO  37.0\n",
              "39          PASCO  MASCULINO  39.0\n",
              "40          PIURA   FEMENINO  39.0\n",
              "41          PIURA  MASCULINO  41.0\n",
              "42           PUNO   FEMENINO  40.0\n",
              "43           PUNO  MASCULINO  42.0\n",
              "44     SAN MARTIN   FEMENINO  37.0\n",
              "45     SAN MARTIN  MASCULINO  39.0\n",
              "46          TACNA   FEMENINO  40.0\n",
              "47          TACNA  MASCULINO  42.0\n",
              "48         TUMBES   FEMENINO  38.0\n",
              "49         TUMBES  MASCULINO  38.0\n",
              "50        UCAYALI   FEMENINO  38.0\n",
              "51        UCAYALI  MASCULINO  41.0"
            ]
          },
          "metadata": {},
          "execution_count": 84
        }
      ]
    },
    {
      "cell_type": "markdown",
      "metadata": {
        "id": "pbXOa3jhe2XP"
      },
      "source": [
        "# Anexo: volviendo al tema de la vectorización\n",
        "\n",
        "¿Por qué es tan importante trabajar con Pandas y no con funciones escritas por nosotros en Python nativo y que procesen los datos dentro de un for loop?\n",
        "\n",
        "Por un lado está la comodidad. Hay mucha funcionalidad que ya está desarrollada en Pandas. Existen funciones que resuelven muchos de los problemas clásicos de manipular datos: agrupar, sumarizar, sacar estadísticas, filtrar, etc. Pero además hay una razón de performance.\n",
        "\n",
        "Veamos una demostración de que vectorizar es más eficiente. Vamos a crear dos listas de 1.000.000 de números aleatorios cada una y vamos a tratar de multiplicar elemento por elemento con pandas y sin pandas:\n",
        "\n"
      ]
    },
    {
      "cell_type": "code",
      "metadata": {
        "id": "ew5g2T4Pe2XP"
      },
      "source": [
        "lista1 = list(np.random.randint(1, 100, 1000000))\n",
        "lista2 = list(np.random.randint(1, 100, 1000000))"
      ],
      "execution_count": null,
      "outputs": []
    },
    {
      "cell_type": "code",
      "metadata": {
        "id": "Y7vBals2e2XQ",
        "colab": {
          "base_uri": "https://localhost:8080/"
        },
        "outputId": "a9a62a11-ebae-4dd1-e8be-2a9437ca4a2e"
      },
      "source": [
        "%%timeit\n",
        "for x,y in zip(lista1,lista2):\n",
        "    x * y"
      ],
      "execution_count": null,
      "outputs": [
        {
          "output_type": "stream",
          "name": "stdout",
          "text": [
            "10 loops, best of 5: 141 ms per loop\n"
          ]
        }
      ]
    },
    {
      "cell_type": "markdown",
      "metadata": {
        "id": "yZiqqjRke2XQ"
      },
      "source": [
        "Ahora probemos hacer lo mismo con dos series de Pandas"
      ]
    },
    {
      "cell_type": "code",
      "metadata": {
        "id": "bejAo4hJe2XQ"
      },
      "source": [
        "serie1 = pd.Series(lista1)\n",
        "serie2 = pd.Series(lista2)"
      ],
      "execution_count": null,
      "outputs": []
    },
    {
      "cell_type": "code",
      "metadata": {
        "id": "jNZ1eHOOe2XQ",
        "colab": {
          "base_uri": "https://localhost:8080/"
        },
        "outputId": "86b75d80-992b-4323-93c2-6fa16c54512d"
      },
      "source": [
        "%%timeit\n",
        "resultado = serie1 * serie2"
      ],
      "execution_count": null,
      "outputs": [
        {
          "output_type": "stream",
          "name": "stdout",
          "text": [
            "100 loops, best of 5: 2.93 ms per loop\n"
          ]
        }
      ]
    },
    {
      "cell_type": "markdown",
      "metadata": {
        "id": "fWFTorU3e2XQ"
      },
      "source": [
        "Conclusión: la operación vectorizada es <strong> más de 70 veces más rápida.</strong>"
      ]
    },
    {
      "cell_type": "code",
      "metadata": {
        "id": "-wyBr7Qke2XQ"
      },
      "source": [],
      "execution_count": null,
      "outputs": []
    }
  ]
}